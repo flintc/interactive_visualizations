{
 "cells": [
  {
   "cell_type": "code",
   "execution_count": 3,
   "metadata": {},
   "outputs": [
    {
     "name": "stdout",
     "output_type": "stream",
     "text": [
      "The autoreload extension is already loaded. To reload it, use:\n",
      "  %reload_ext autoreload\n"
     ]
    }
   ],
   "source": [
    "%load_ext autoreload\n",
    "%autoreload 2"
   ]
  },
  {
   "cell_type": "code",
   "execution_count": 4,
   "metadata": {},
   "outputs": [],
   "source": [
    "from common_imports import *"
   ]
  },
  {
   "cell_type": "code",
   "execution_count": 22,
   "metadata": {},
   "outputs": [],
   "source": [
    "SCATTER_OPTS = {\n",
    "    '.': 'markers',\n",
    "    '-': 'lines',\n",
    "    '.-': 'lines+markers',\n",
    "    'markers': 'markers',\n",
    "    'lines': 'lines',\n",
    "    'lines+markers': 'lines+markers',\n",
    "}\n",
    "\n",
    "\n"
   ]
  },
  {
   "cell_type": "code",
   "execution_count": 23,
   "metadata": {},
   "outputs": [],
   "source": [
    "def with_defaults(defaults):\n",
    "    def decorator(fn):\n",
    "        def wrapper(*args, **kwargs):\n",
    "            return fn(*args, **kwargs, **defaults)\n",
    "        return wrapper\n",
    "    return decorator"
   ]
  },
  {
   "cell_type": "code",
   "execution_count": null,
   "metadata": {},
   "outputs": [],
   "source": [
    "def g"
   ]
  },
  {
   "cell_type": "code",
   "execution_count": null,
   "metadata": {},
   "outputs": [],
   "source": []
  },
  {
   "cell_type": "code",
   "execution_count": 79,
   "metadata": {},
   "outputs": [],
   "source": [
    "SCATTER_DEFAULT_OPTS = {\n",
    "    'opacity': 1.0,\n",
    "    'alpha': None,\n",
    "    'markersize': 5,\n",
    "    'ms': None,\n",
    "    'linesize': 2,\n",
    "    'ls': None,\n",
    "    'title': None,\n",
    "}\n",
    "\n",
    "@with_defaults(SCATTER_DEFAULT_OPTS)\n",
    "def plot(x, y, line_marker_desc='.', figure=None, **options):\n",
    "    axis = dict(\n",
    "        gridcolor='rgba(255,255,255,0.2)',\n",
    "        zerolinecolor='rgba(255,255,255,0.7)',\n",
    "    )\n",
    "    trace = dict(\n",
    "        x=x,\n",
    "        y=y,\n",
    "        mode=SCATTER_OPTS[line_marker_desc],\n",
    "        opacity = options['alpha'] or options['opacity'],\n",
    "        marker=dict(\n",
    "            size=options['ms'] or options['markersize'],\n",
    "        )\n",
    "    )\n",
    "    layout = dict(\n",
    "        title = options['title'],\n",
    "        paper_bgcolor='rgba(255,255,255,0)',\n",
    "        plot_bgcolor='rgba(255,255,255,.2)',\n",
    "        xaxis=axis,\n",
    "        yaxis=axis,\n",
    "     )\n",
    "    if figure:\n",
    "        return FigureContainer(data=figure.data+(trace,), layout=figure.layout)\n",
    "    else:\n",
    "        return FigureContainer(data=[trace], layout=layout)\n",
    "\n",
    "class FigureContainer(go.FigureWidget):\n",
    "    def plot(self, *args, **kwargs):\n",
    "        return plot(*args, **kwargs, figure=self)\n",
    "        "
   ]
  },
  {
   "cell_type": "code",
   "execution_count": 80,
   "metadata": {},
   "outputs": [],
   "source": [
    "fig = plot(np.arange(10),np.arange(10))"
   ]
  },
  {
   "cell_type": "code",
   "execution_count": null,
   "metadata": {},
   "outputs": [],
   "source": []
  },
  {
   "cell_type": "code",
   "execution_count": 81,
   "metadata": {},
   "outputs": [
    {
     "data": {
      "application/vnd.jupyter.widget-view+json": {
       "model_id": "b5641fe2eef149bcb3b4ef19e9fcc92a",
       "version_major": 2,
       "version_minor": 0
      },
      "text/plain": [
       "FigureContainer({\n",
       "    'data': [{'marker': {'size': 5},\n",
       "              'mode': 'markers',\n",
       "              'opacity…"
      ]
     },
     "metadata": {},
     "output_type": "display_data"
    }
   ],
   "source": [
    "fig.plot(np.arange(10)+2, np.arange(10+2))"
   ]
  },
  {
   "cell_type": "code",
   "execution_count": 19,
   "metadata": {},
   "outputs": [],
   "source": [
    "foo = locals()"
   ]
  },
  {
   "cell_type": "code",
   "execution_count": 20,
   "metadata": {},
   "outputs": [],
   "source": [
    "foo.update?"
   ]
  },
  {
   "cell_type": "code",
   "execution_count": 122,
   "metadata": {},
   "outputs": [],
   "source": [
    "q = go.FigureWidget(data=[\n",
    "    dict(\n",
    "        type='scatter',\n",
    "        x=np.arange(10),\n",
    "        y=np.arange(10),\n",
    "    )\n",
    "])"
   ]
  },
  {
   "cell_type": "code",
   "execution_count": null,
   "metadata": {},
   "outputs": [],
   "source": []
  },
  {
   "cell_type": "code",
   "execution_count": 143,
   "metadata": {},
   "outputs": [],
   "source": [
    "import lib.core as core\n",
    "import lib.plotlyplot as plt"
   ]
  },
  {
   "cell_type": "code",
   "execution_count": 150,
   "metadata": {},
   "outputs": [],
   "source": [
    "obj = dict(a=dict(b=2,c=dict(d=2,e=8)))"
   ]
  },
  {
   "cell_type": "code",
   "execution_count": null,
   "metadata": {},
   "outputs": [],
   "source": []
  },
  {
   "cell_type": "code",
   "execution_count": 149,
   "metadata": {},
   "outputs": [
    {
     "data": {
      "text/plain": [
       "{'a': {'b': 2, 'c': 10}}"
      ]
     },
     "execution_count": 149,
     "metadata": {},
     "output_type": "execute_result"
    }
   ],
   "source": [
    "core.assoc('a', core.pipe(core.prop('a'), core.assoc('c',10))(obj))(obj)"
   ]
  },
  {
   "cell_type": "code",
   "execution_count": null,
   "metadata": {},
   "outputs": [],
   "source": [
    "path = ['a', 'c']"
   ]
  },
  {
   "cell_type": "code",
   "execution_count": null,
   "metadata": {},
   "outputs": [],
   "source": []
  },
  {
   "cell_type": "code",
   "execution_count": 191,
   "metadata": {},
   "outputs": [
    {
     "data": {
      "text/plain": [
       "{'a': {'b': 2, 'c': {'d': 2, 'e': 15}}}"
      ]
     },
     "execution_count": 191,
     "metadata": {},
     "output_type": "execute_result"
    }
   ],
   "source": [
    "core.assoc('a')(core.assoc('c')(core.pipe(\n",
    "    core.prop('a'), \n",
    "    core.prop('c'), \n",
    "    core.assoc('e')(15)\n",
    ")(obj) )(core.prop('a')(obj)))(obj)"
   ]
  },
  {
   "cell_type": "code",
   "execution_count": 205,
   "metadata": {},
   "outputs": [
    {
     "ename": "AttributeError",
     "evalue": "'int' object has no attribute 'e'",
     "output_type": "error",
     "traceback": [
      "\u001b[0;31m---------------------------------------------------------------------------\u001b[0m",
      "\u001b[0;31mAttributeError\u001b[0m                            Traceback (most recent call last)",
      "\u001b[0;32m<ipython-input-205-916d2e213b2d>\u001b[0m in \u001b[0;36m<module>\u001b[0;34m()\u001b[0m\n\u001b[1;32m      1\u001b[0m core.pipe(core.pipe(\n\u001b[1;32m      2\u001b[0m     core.pipe(\n\u001b[0;32m----> 3\u001b[0;31m         core.prop('a'), core.prop('c'), core.prop('e')(15)), core.assoc('c'))(obj), core.assoc('a'))\n\u001b[0m",
      "\u001b[0;32m~/projects/vislib/lib/core.py\u001b[0m in \u001b[0;36m<lambda>\u001b[0;34m(obj)\u001b[0m\n\u001b[1;32m     18\u001b[0m \u001b[0;34m\u001b[0m\u001b[0m\n\u001b[1;32m     19\u001b[0m \u001b[0;32mdef\u001b[0m \u001b[0mprop\u001b[0m\u001b[0;34m(\u001b[0m\u001b[0mname\u001b[0m\u001b[0;34m)\u001b[0m\u001b[0;34m:\u001b[0m\u001b[0;34m\u001b[0m\u001b[0m\n\u001b[0;32m---> 20\u001b[0;31m     \u001b[0;32mreturn\u001b[0m \u001b[0;32mlambda\u001b[0m \u001b[0mobj\u001b[0m\u001b[0;34m:\u001b[0m \u001b[0mobj\u001b[0m\u001b[0;34m[\u001b[0m\u001b[0mname\u001b[0m\u001b[0;34m]\u001b[0m \u001b[0;32mif\u001b[0m \u001b[0misinstance\u001b[0m\u001b[0;34m(\u001b[0m\u001b[0mobj\u001b[0m\u001b[0;34m,\u001b[0m \u001b[0mdict\u001b[0m\u001b[0;34m)\u001b[0m \u001b[0;32melse\u001b[0m \u001b[0mgetattr\u001b[0m\u001b[0;34m(\u001b[0m\u001b[0mobj\u001b[0m\u001b[0;34m,\u001b[0m \u001b[0mname\u001b[0m\u001b[0;34m)\u001b[0m\u001b[0;34m\u001b[0m\u001b[0m\n\u001b[0m\u001b[1;32m     21\u001b[0m \u001b[0;34m\u001b[0m\u001b[0m\n\u001b[1;32m     22\u001b[0m \u001b[0;32mdef\u001b[0m \u001b[0mpipe\u001b[0m\u001b[0;34m(\u001b[0m\u001b[0;34m*\u001b[0m\u001b[0mfns\u001b[0m\u001b[0;34m)\u001b[0m\u001b[0;34m:\u001b[0m\u001b[0;34m\u001b[0m\u001b[0m\n",
      "\u001b[0;31mAttributeError\u001b[0m: 'int' object has no attribute 'e'"
     ]
    }
   ],
   "source": [
    "core.pipe(\n",
    "    core.pipe(\n",
    "        core.pipe(\n",
    "            core.prop('a'), core.prop('c'), core.prop('e')(15)), core.assoc('c'))(obj), core.assoc('a'))"
   ]
  },
  {
   "cell_type": "code",
   "execution_count": 203,
   "metadata": {},
   "outputs": [
    {
     "data": {
      "text/plain": [
       "{'b': 2, 'c': {'d': 2, 'e': 15}}"
      ]
     },
     "execution_count": 203,
     "metadata": {},
     "output_type": "execute_result"
    }
   ],
   "source": [
    "core.pipe(\n",
    "    core.prop('a'), core.assoc('c')(core.pipe(\n",
    "        core.prop('a'), core.prop('c'), core.assoc('e')(15),\n",
    "    )(obj)) \n",
    ")(obj)"
   ]
  },
  {
   "cell_type": "code",
   "execution_count": 184,
   "metadata": {},
   "outputs": [
    {
     "data": {
      "text/plain": [
       "{'b': 2, 'c': {'d': 2, 'e': 15}}"
      ]
     },
     "execution_count": 184,
     "metadata": {},
     "output_type": "execute_result"
    }
   ],
   "source": [
    "core.pipe(\n",
    "    core.prop('a'), core.pipe(\n",
    "        core.pipe(\n",
    "            core.prop('a'), core.prop('c'), core.assoc('e')(15)\n",
    "        ) ,core.assoc('c')\n",
    "    )(obj) \n",
    ")(obj)"
   ]
  },
  {
   "cell_type": "code",
   "execution_count": 190,
   "metadata": {},
   "outputs": [
    {
     "ename": "TypeError",
     "evalue": "'dict' object is not callable",
     "output_type": "error",
     "traceback": [
      "\u001b[0;31m---------------------------------------------------------------------------\u001b[0m",
      "\u001b[0;31mTypeError\u001b[0m                                 Traceback (most recent call last)",
      "\u001b[0;32m<ipython-input-190-1d90ceda7170>\u001b[0m in \u001b[0;36m<module>\u001b[0;34m()\u001b[0m\n\u001b[1;32m      7\u001b[0m             )(obj)\n\u001b[1;32m      8\u001b[0m         ))\n\u001b[0;32m----> 9\u001b[0;31m )(obj)\n\u001b[0m",
      "\u001b[0;32m~/projects/vislib/lib/core.py\u001b[0m in \u001b[0;36m<lambda>\u001b[0;34m(initial_value)\u001b[0m\n\u001b[1;32m     21\u001b[0m \u001b[0;34m\u001b[0m\u001b[0m\n\u001b[1;32m     22\u001b[0m \u001b[0;32mdef\u001b[0m \u001b[0mpipe\u001b[0m\u001b[0;34m(\u001b[0m\u001b[0;34m*\u001b[0m\u001b[0mfns\u001b[0m\u001b[0;34m)\u001b[0m\u001b[0;34m:\u001b[0m\u001b[0;34m\u001b[0m\u001b[0m\n\u001b[0;32m---> 23\u001b[0;31m     \u001b[0;32mreturn\u001b[0m \u001b[0;32mlambda\u001b[0m \u001b[0minitial_value\u001b[0m\u001b[0;34m:\u001b[0m \u001b[0mreduce\u001b[0m\u001b[0;34m(\u001b[0m\u001b[0;32mlambda\u001b[0m \u001b[0mprev_result\u001b[0m\u001b[0;34m,\u001b[0m \u001b[0mfn\u001b[0m\u001b[0;34m:\u001b[0m \u001b[0mfn\u001b[0m\u001b[0;34m(\u001b[0m\u001b[0mprev_result\u001b[0m\u001b[0;34m)\u001b[0m\u001b[0;34m,\u001b[0m \u001b[0mfns\u001b[0m\u001b[0;34m,\u001b[0m \u001b[0minitial_value\u001b[0m\u001b[0;34m)\u001b[0m\u001b[0;34m\u001b[0m\u001b[0m\n\u001b[0m\u001b[1;32m     24\u001b[0m \u001b[0;34m\u001b[0m\u001b[0m\n\u001b[1;32m     25\u001b[0m \u001b[0;32mdef\u001b[0m \u001b[0mextend\u001b[0m\u001b[0;34m(\u001b[0m\u001b[0mobj\u001b[0m\u001b[0;34m,\u001b[0m \u001b[0mextension\u001b[0m\u001b[0;34m)\u001b[0m\u001b[0;34m:\u001b[0m\u001b[0;34m\u001b[0m\u001b[0m\n",
      "\u001b[0;32m~/projects/vislib/lib/core.py\u001b[0m in \u001b[0;36m<lambda>\u001b[0;34m(prev_result, fn)\u001b[0m\n\u001b[1;32m     21\u001b[0m \u001b[0;34m\u001b[0m\u001b[0m\n\u001b[1;32m     22\u001b[0m \u001b[0;32mdef\u001b[0m \u001b[0mpipe\u001b[0m\u001b[0;34m(\u001b[0m\u001b[0;34m*\u001b[0m\u001b[0mfns\u001b[0m\u001b[0;34m)\u001b[0m\u001b[0;34m:\u001b[0m\u001b[0;34m\u001b[0m\u001b[0m\n\u001b[0;32m---> 23\u001b[0;31m     \u001b[0;32mreturn\u001b[0m \u001b[0;32mlambda\u001b[0m \u001b[0minitial_value\u001b[0m\u001b[0;34m:\u001b[0m \u001b[0mreduce\u001b[0m\u001b[0;34m(\u001b[0m\u001b[0;32mlambda\u001b[0m \u001b[0mprev_result\u001b[0m\u001b[0;34m,\u001b[0m \u001b[0mfn\u001b[0m\u001b[0;34m:\u001b[0m \u001b[0mfn\u001b[0m\u001b[0;34m(\u001b[0m\u001b[0mprev_result\u001b[0m\u001b[0;34m)\u001b[0m\u001b[0;34m,\u001b[0m \u001b[0mfns\u001b[0m\u001b[0;34m,\u001b[0m \u001b[0minitial_value\u001b[0m\u001b[0;34m)\u001b[0m\u001b[0;34m\u001b[0m\u001b[0m\n\u001b[0m\u001b[1;32m     24\u001b[0m \u001b[0;34m\u001b[0m\u001b[0m\n\u001b[1;32m     25\u001b[0m \u001b[0;32mdef\u001b[0m \u001b[0mextend\u001b[0m\u001b[0;34m(\u001b[0m\u001b[0mobj\u001b[0m\u001b[0;34m,\u001b[0m \u001b[0mextension\u001b[0m\u001b[0;34m)\u001b[0m\u001b[0;34m:\u001b[0m\u001b[0;34m\u001b[0m\u001b[0m\n",
      "\u001b[0;32m~/projects/vislib/lib/core.py\u001b[0m in \u001b[0;36m<lambda>\u001b[0;34m(initial_value)\u001b[0m\n\u001b[1;32m     21\u001b[0m \u001b[0;34m\u001b[0m\u001b[0m\n\u001b[1;32m     22\u001b[0m \u001b[0;32mdef\u001b[0m \u001b[0mpipe\u001b[0m\u001b[0;34m(\u001b[0m\u001b[0;34m*\u001b[0m\u001b[0mfns\u001b[0m\u001b[0;34m)\u001b[0m\u001b[0;34m:\u001b[0m\u001b[0;34m\u001b[0m\u001b[0m\n\u001b[0;32m---> 23\u001b[0;31m     \u001b[0;32mreturn\u001b[0m \u001b[0;32mlambda\u001b[0m \u001b[0minitial_value\u001b[0m\u001b[0;34m:\u001b[0m \u001b[0mreduce\u001b[0m\u001b[0;34m(\u001b[0m\u001b[0;32mlambda\u001b[0m \u001b[0mprev_result\u001b[0m\u001b[0;34m,\u001b[0m \u001b[0mfn\u001b[0m\u001b[0;34m:\u001b[0m \u001b[0mfn\u001b[0m\u001b[0;34m(\u001b[0m\u001b[0mprev_result\u001b[0m\u001b[0;34m)\u001b[0m\u001b[0;34m,\u001b[0m \u001b[0mfns\u001b[0m\u001b[0;34m,\u001b[0m \u001b[0minitial_value\u001b[0m\u001b[0;34m)\u001b[0m\u001b[0;34m\u001b[0m\u001b[0m\n\u001b[0m\u001b[1;32m     24\u001b[0m \u001b[0;34m\u001b[0m\u001b[0m\n\u001b[1;32m     25\u001b[0m \u001b[0;32mdef\u001b[0m \u001b[0mextend\u001b[0m\u001b[0;34m(\u001b[0m\u001b[0mobj\u001b[0m\u001b[0;34m,\u001b[0m \u001b[0mextension\u001b[0m\u001b[0;34m)\u001b[0m\u001b[0;34m:\u001b[0m\u001b[0;34m\u001b[0m\u001b[0m\n",
      "\u001b[0;32m~/projects/vislib/lib/core.py\u001b[0m in \u001b[0;36m<lambda>\u001b[0;34m(prev_result, fn)\u001b[0m\n\u001b[1;32m     21\u001b[0m \u001b[0;34m\u001b[0m\u001b[0m\n\u001b[1;32m     22\u001b[0m \u001b[0;32mdef\u001b[0m \u001b[0mpipe\u001b[0m\u001b[0;34m(\u001b[0m\u001b[0;34m*\u001b[0m\u001b[0mfns\u001b[0m\u001b[0;34m)\u001b[0m\u001b[0;34m:\u001b[0m\u001b[0;34m\u001b[0m\u001b[0m\n\u001b[0;32m---> 23\u001b[0;31m     \u001b[0;32mreturn\u001b[0m \u001b[0;32mlambda\u001b[0m \u001b[0minitial_value\u001b[0m\u001b[0;34m:\u001b[0m \u001b[0mreduce\u001b[0m\u001b[0;34m(\u001b[0m\u001b[0;32mlambda\u001b[0m \u001b[0mprev_result\u001b[0m\u001b[0;34m,\u001b[0m \u001b[0mfn\u001b[0m\u001b[0;34m:\u001b[0m \u001b[0mfn\u001b[0m\u001b[0;34m(\u001b[0m\u001b[0mprev_result\u001b[0m\u001b[0;34m)\u001b[0m\u001b[0;34m,\u001b[0m \u001b[0mfns\u001b[0m\u001b[0;34m,\u001b[0m \u001b[0minitial_value\u001b[0m\u001b[0;34m)\u001b[0m\u001b[0;34m\u001b[0m\u001b[0m\n\u001b[0m\u001b[1;32m     24\u001b[0m \u001b[0;34m\u001b[0m\u001b[0m\n\u001b[1;32m     25\u001b[0m \u001b[0;32mdef\u001b[0m \u001b[0mextend\u001b[0m\u001b[0;34m(\u001b[0m\u001b[0mobj\u001b[0m\u001b[0;34m,\u001b[0m \u001b[0mextension\u001b[0m\u001b[0;34m)\u001b[0m\u001b[0;34m:\u001b[0m\u001b[0;34m\u001b[0m\u001b[0m\n",
      "\u001b[0;32m~/projects/vislib/lib/core.py\u001b[0m in \u001b[0;36m<lambda>\u001b[0;34m(initial_value)\u001b[0m\n\u001b[1;32m     21\u001b[0m \u001b[0;34m\u001b[0m\u001b[0m\n\u001b[1;32m     22\u001b[0m \u001b[0;32mdef\u001b[0m \u001b[0mpipe\u001b[0m\u001b[0;34m(\u001b[0m\u001b[0;34m*\u001b[0m\u001b[0mfns\u001b[0m\u001b[0;34m)\u001b[0m\u001b[0;34m:\u001b[0m\u001b[0;34m\u001b[0m\u001b[0m\n\u001b[0;32m---> 23\u001b[0;31m     \u001b[0;32mreturn\u001b[0m \u001b[0;32mlambda\u001b[0m \u001b[0minitial_value\u001b[0m\u001b[0;34m:\u001b[0m \u001b[0mreduce\u001b[0m\u001b[0;34m(\u001b[0m\u001b[0;32mlambda\u001b[0m \u001b[0mprev_result\u001b[0m\u001b[0;34m,\u001b[0m \u001b[0mfn\u001b[0m\u001b[0;34m:\u001b[0m \u001b[0mfn\u001b[0m\u001b[0;34m(\u001b[0m\u001b[0mprev_result\u001b[0m\u001b[0;34m)\u001b[0m\u001b[0;34m,\u001b[0m \u001b[0mfns\u001b[0m\u001b[0;34m,\u001b[0m \u001b[0minitial_value\u001b[0m\u001b[0;34m)\u001b[0m\u001b[0;34m\u001b[0m\u001b[0m\n\u001b[0m\u001b[1;32m     24\u001b[0m \u001b[0;34m\u001b[0m\u001b[0m\n\u001b[1;32m     25\u001b[0m \u001b[0;32mdef\u001b[0m \u001b[0mextend\u001b[0m\u001b[0;34m(\u001b[0m\u001b[0mobj\u001b[0m\u001b[0;34m,\u001b[0m \u001b[0mextension\u001b[0m\u001b[0;34m)\u001b[0m\u001b[0;34m:\u001b[0m\u001b[0;34m\u001b[0m\u001b[0m\n",
      "\u001b[0;32m~/projects/vislib/lib/core.py\u001b[0m in \u001b[0;36m<lambda>\u001b[0;34m(prev_result, fn)\u001b[0m\n\u001b[1;32m     21\u001b[0m \u001b[0;34m\u001b[0m\u001b[0m\n\u001b[1;32m     22\u001b[0m \u001b[0;32mdef\u001b[0m \u001b[0mpipe\u001b[0m\u001b[0;34m(\u001b[0m\u001b[0;34m*\u001b[0m\u001b[0mfns\u001b[0m\u001b[0;34m)\u001b[0m\u001b[0;34m:\u001b[0m\u001b[0;34m\u001b[0m\u001b[0m\n\u001b[0;32m---> 23\u001b[0;31m     \u001b[0;32mreturn\u001b[0m \u001b[0;32mlambda\u001b[0m \u001b[0minitial_value\u001b[0m\u001b[0;34m:\u001b[0m \u001b[0mreduce\u001b[0m\u001b[0;34m(\u001b[0m\u001b[0;32mlambda\u001b[0m \u001b[0mprev_result\u001b[0m\u001b[0;34m,\u001b[0m \u001b[0mfn\u001b[0m\u001b[0;34m:\u001b[0m \u001b[0mfn\u001b[0m\u001b[0;34m(\u001b[0m\u001b[0mprev_result\u001b[0m\u001b[0;34m)\u001b[0m\u001b[0;34m,\u001b[0m \u001b[0mfns\u001b[0m\u001b[0;34m,\u001b[0m \u001b[0minitial_value\u001b[0m\u001b[0;34m)\u001b[0m\u001b[0;34m\u001b[0m\u001b[0m\n\u001b[0m\u001b[1;32m     24\u001b[0m \u001b[0;34m\u001b[0m\u001b[0m\n\u001b[1;32m     25\u001b[0m \u001b[0;32mdef\u001b[0m \u001b[0mextend\u001b[0m\u001b[0;34m(\u001b[0m\u001b[0mobj\u001b[0m\u001b[0;34m,\u001b[0m \u001b[0mextension\u001b[0m\u001b[0;34m)\u001b[0m\u001b[0;34m:\u001b[0m\u001b[0;34m\u001b[0m\u001b[0m\n",
      "\u001b[0;31mTypeError\u001b[0m: 'dict' object is not callable"
     ]
    }
   ],
   "source": [
    "core.pipe(\n",
    "    core.pipe( \n",
    "        core.pipe(\n",
    "            core.assoc('c'),\n",
    "            core.pipe(\n",
    "                core.prop('a'), core.prop('c'), core.assoc('e')(15)\n",
    "            )(obj)\n",
    "        ))\n",
    ")(obj)"
   ]
  },
  {
   "cell_type": "code",
   "execution_count": null,
   "metadata": {},
   "outputs": [],
   "source": [
    "core.pipe( )"
   ]
  },
  {
   "cell_type": "code",
   "execution_count": 171,
   "metadata": {},
   "outputs": [
    {
     "data": {
      "text/plain": [
       "{'a': {'a': {'b': 2, 'c': {'d': 2, 'e': 8}}, 'c': {'d': 2, 'e': 15}}}"
      ]
     },
     "execution_count": 171,
     "metadata": {},
     "output_type": "execute_result"
    }
   ],
   "source": [
    "core.pipe(core.prop('a'), core.pipe(core.prop('c'),core.assoc('e')(15)), core.assoc('c'), core.assoc('a'))(obj)(obj)"
   ]
  },
  {
   "cell_type": "code",
   "execution_count": 138,
   "metadata": {},
   "outputs": [
    {
     "data": {
      "application/vnd.jupyter.widget-view+json": {
       "model_id": "85397621e4d34e2c9b36141d0326f495",
       "version_major": 2,
       "version_minor": 0
      },
      "text/plain": [
       "FigureWidget({\n",
       "    'data': [{'marker': {'size': 15},\n",
       "              'mode': 'markers',\n",
       "              'type': 's…"
      ]
     },
     "metadata": {},
     "output_type": "display_data"
    }
   ],
   "source": [
    "plt.scatter(np.random.rand(5), np.random.rand(5), ms=15)"
   ]
  },
  {
   "cell_type": "code",
   "execution_count": 94,
   "metadata": {},
   "outputs": [
    {
     "data": {
      "text/plain": [
       "<module 'lib.core' from '/Users/Carrie/projects/vislib/lib/core.py'>"
      ]
     },
     "execution_count": 94,
     "metadata": {},
     "output_type": "execute_result"
    }
   ],
   "source": [
    "core"
   ]
  },
  {
   "cell_type": "code",
   "execution_count": 101,
   "metadata": {},
   "outputs": [
    {
     "data": {
      "text/plain": [
       "[('scatter', <function lib.core.scatter(*args, **kwargs)>)]"
      ]
     },
     "execution_count": 101,
     "metadata": {},
     "output_type": "execute_result"
    }
   ],
   "source": [
    "plt.functions_list"
   ]
  },
  {
   "cell_type": "code",
   "execution_count": 238,
   "metadata": {},
   "outputs": [],
   "source": [
    "def stateful_prop(path):\n",
    "    path = list(reversed(path))\n",
    "    state = dict()\n",
    "    def wrapper(obj):\n",
    "        nonlocal state\n",
    "        value = core.prop(path.pop())(obj)\n",
    "        print(state)\n",
    "        print(value)\n",
    "        state = core.assign(**value)(state)\n",
    "        print(state)\n",
    "    return wrapper"
   ]
  },
  {
   "cell_type": "code",
   "execution_count": 239,
   "metadata": {},
   "outputs": [
    {
     "data": {
      "text/plain": [
       "{'b': 2, 'c': {'d': 2, 'e': 8}}"
      ]
     },
     "execution_count": 239,
     "metadata": {},
     "output_type": "execute_result"
    }
   ],
   "source": [
    "core.resolve_assignments( {'b': 2, 'c': {'d': 2, 'e': 8}}, dict())"
   ]
  },
  {
   "cell_type": "code",
   "execution_count": 240,
   "metadata": {},
   "outputs": [
    {
     "data": {
      "text/plain": [
       "'a'"
      ]
     },
     "execution_count": 240,
     "metadata": {},
     "output_type": "execute_result"
    }
   ],
   "source": [
    "list(reversed(['a','b'])).pop()"
   ]
  },
  {
   "cell_type": "code",
   "execution_count": 241,
   "metadata": {},
   "outputs": [
    {
     "name": "stdout",
     "output_type": "stream",
     "text": [
      "{}\n",
      "{'b': 2, 'c': {'d': 2, 'e': 8}}\n",
      "{'b': 2, 'c': {'d': 2, 'e': 8}}\n"
     ]
    }
   ],
   "source": [
    "stateful_prop(['a','b'])(obj)"
   ]
  },
  {
   "cell_type": "code",
   "execution_count": 349,
   "metadata": {},
   "outputs": [],
   "source": [
    "from lib.utils import *"
   ]
  },
  {
   "cell_type": "code",
   "execution_count": 271,
   "metadata": {},
   "outputs": [
    {
     "data": {
      "text/plain": [
       "18"
      ]
     },
     "execution_count": 271,
     "metadata": {},
     "output_type": "execute_result"
    }
   ],
   "source": [
    "path('a.c.e')(obj)"
   ]
  },
  {
   "cell_type": "code",
   "execution_count": 244,
   "metadata": {},
   "outputs": [
    {
     "data": {
      "text/plain": [
       "{'a': {'b': 2, 'c': {'d': 2, 'e': 8}}}"
      ]
     },
     "execution_count": 244,
     "metadata": {},
     "output_type": "execute_result"
    }
   ],
   "source": [
    "obj"
   ]
  },
  {
   "cell_type": "code",
   "execution_count": 262,
   "metadata": {},
   "outputs": [
    {
     "data": {
      "text/plain": [
       "{'a': 15}"
      ]
     },
     "execution_count": 262,
     "metadata": {},
     "output_type": "execute_result"
    }
   ],
   "source": [
    "assoc('a', 15)(obj)"
   ]
  },
  {
   "cell_type": "code",
   "execution_count": 302,
   "metadata": {},
   "outputs": [
    {
     "data": {
      "text/plain": [
       "{'a': {'b': 2, 'c': {'d': 2, 'e': 18}, 'w': 115}}"
      ]
     },
     "execution_count": 302,
     "metadata": {},
     "output_type": "execute_result"
    }
   ],
   "source": [
    "assoc_path('a.w', 115)(obj)"
   ]
  },
  {
   "cell_type": "code",
   "execution_count": 484,
   "metadata": {},
   "outputs": [],
   "source": [
    "def expand_path(path):\n",
    "    prop_names = get_prop_names(path)\n",
    "    obj = dict()\n",
    "    cobj = obj\n",
    "    for i in range(1, len(prop_names)+1):\n",
    "        #print(prop_names[0:i], {prop_names[i-1]: dict()})\n",
    "        obj = assoc_path(prop_names[0:i], dict())(obj)\n",
    "    \n",
    "    return obj"
   ]
  },
  {
   "cell_type": "code",
   "execution_count": 351,
   "metadata": {},
   "outputs": [
    {
     "data": {
      "text/plain": [
       "{'a': {}}"
      ]
     },
     "execution_count": 351,
     "metadata": {},
     "output_type": "execute_result"
    }
   ],
   "source": [
    "assoc_path(['a'], dict())({'a': dict()})"
   ]
  },
  {
   "cell_type": "code",
   "execution_count": 353,
   "metadata": {},
   "outputs": [
    {
     "name": "stdout",
     "output_type": "stream",
     "text": [
      "['a'] {'a': {}}\n",
      "['a', 'b'] {'b': {}}\n"
     ]
    },
    {
     "data": {
      "text/plain": [
       "{'a': {'b': {'c': 5}}}"
      ]
     },
     "execution_count": 353,
     "metadata": {},
     "output_type": "execute_result"
    }
   ],
   "source": [
    "assoc_path('a.b.c', 5)(expand_path(['a','b']))"
   ]
  },
  {
   "cell_type": "code",
   "execution_count": null,
   "metadata": {},
   "outputs": [],
   "source": [
    "ax.scatter(x, y, {'markers.size': 10, ''})"
   ]
  },
  {
   "cell_type": "code",
   "execution_count": null,
   "metadata": {},
   "outputs": [],
   "source": []
  },
  {
   "cell_type": "code",
   "execution_count": 297,
   "metadata": {},
   "outputs": [],
   "source": []
  },
  {
   "cell_type": "code",
   "execution_count": 367,
   "metadata": {},
   "outputs": [],
   "source": [
    "def foo(**kwargs):\n",
    "    return kwargs"
   ]
  },
  {
   "cell_type": "code",
   "execution_count": 404,
   "metadata": {},
   "outputs": [],
   "source": [
    "#bar = expand_alias(**{'markers.size': 10, 'markers.line.size': 3})"
   ]
  },
  {
   "cell_type": "code",
   "execution_count": 406,
   "metadata": {},
   "outputs": [],
   "source": [
    "#foo(**bar[0], **bar[1])"
   ]
  },
  {
   "cell_type": "code",
   "execution_count": 407,
   "metadata": {},
   "outputs": [],
   "source": [
    "#core.merge_dicts(dict(a=1), dict(b=dict(c=10)))"
   ]
  },
  {
   "cell_type": "code",
   "execution_count": 402,
   "metadata": {},
   "outputs": [],
   "source": [
    "def merge_dicts_deep(*dikts):\n",
    "    obj = dict()\n",
    "    for key in core.merge_keys(*dikts):\n",
    "        foo = [dd for dd in [prop(key)(d) for d in dikts if key in d.keys()] if isinstance(dd, dict)]\n",
    "        bar = [prop(key)(d) for d in dikts if key in d.keys()]\n",
    "        obj = assoc(key, core.merge_dicts(*foo) if len(foo)>0 else bar if len(bar) > 1 else bar[0] )(obj)\n",
    "    return obj"
   ]
  },
  {
   "cell_type": "code",
   "execution_count": 408,
   "metadata": {},
   "outputs": [
    {
     "data": {
      "text/plain": [
       "{'p': [12, 90], 'a': {'b': 1, 'c': 10}}"
      ]
     },
     "execution_count": 408,
     "metadata": {},
     "output_type": "execute_result"
    }
   ],
   "source": [
    "merge_dicts_deep(dict(a=dict(b=1), p=12), dict(a=dict(c=10), p=90))"
   ]
  },
  {
   "cell_type": "code",
   "execution_count": 298,
   "metadata": {},
   "outputs": [],
   "source": [
    "basic_layout = dict(\n",
    "    title=\"Test\",\n",
    "    paper_bgcolor='rgba(255,255,255,.2)',\n",
    "    plot_bgcolor='rgba(255,255,255,.2)',\n",
    ")\n",
    "basic_scatter = dict(\n",
    "    x=np.random.rand(10),\n",
    "    y=np.random.rand(10),\n",
    ")"
   ]
  },
  {
   "cell_type": "code",
   "execution_count": 525,
   "metadata": {},
   "outputs": [
    {
     "data": {
      "text/plain": [
       "1"
      ]
     },
     "execution_count": 525,
     "metadata": {},
     "output_type": "execute_result"
    }
   ],
   "source": [
    "np.ravel_multi_index([0,1], dims=(5,2))"
   ]
  },
  {
   "cell_type": "code",
   "execution_count": 527,
   "metadata": {},
   "outputs": [
    {
     "data": {
      "text/plain": [
       "(1, 0)"
      ]
     },
     "execution_count": 527,
     "metadata": {},
     "output_type": "execute_result"
    }
   ],
   "source": [
    "np.unravel_index(3, dims=(6,3))"
   ]
  },
  {
   "cell_type": "code",
   "execution_count": 769,
   "metadata": {},
   "outputs": [],
   "source": [
    "def expand_alias(**kwargs):\n",
    "    return [ assoc_path(k, v)(expand_path(get_prop_names(k)[0:-1])) for k, v in kwargs.items() ]\n",
    "            \n",
    "\n",
    "class FigureC:\n",
    "    def __init__(self, layout, subplots=(1,1)):\n",
    "        self._figure = tools.make_subplots(rows=subplots[0], cols=subplots[1])\n",
    "        self._layout = layout\n",
    "        self._data = ()\n",
    "        self._shape = subplots\n",
    "        self._idx = 0\n",
    "        self._row = 1\n",
    "        self._col = 1\n",
    "        \n",
    "    @property\n",
    "    def layout(self):\n",
    "        for k,v in self._layout.items():\n",
    "            self._figure.layout[k] = v\n",
    "        return self._figure.layout\n",
    "\n",
    "    @property\n",
    "    def data(self):\n",
    "        return self._figure.data\n",
    "    \n",
    "    @data.setter\n",
    "    def data(self, trace):\n",
    "        #print('TRACE', trace)\n",
    "        print('row: {}, col: {}'.format(self.row, self.col))\n",
    "        self._figure.append_trace(trace, *(self.row, self.col))\n",
    "        #print('DATA', self._figure.data)\n",
    "        self.index += 1\n",
    "        print('index!', self.index)\n",
    "    \n",
    "    @property\n",
    "    def index(self):\n",
    "        return self._idx\n",
    "    \n",
    "    @index.setter\n",
    "    def index(self, value):\n",
    "        row, col = np.unravel_index(value, dims=(self._shape[0], self._shape[1]))\n",
    "        self._row = row+1\n",
    "        self._col = col+1\n",
    "        self._idx += 1\n",
    "    \n",
    "    @property\n",
    "    def row(self):\n",
    "        return self._row\n",
    "\n",
    "    @property\n",
    "    def col(self):\n",
    "        return self._col\n",
    "    \n",
    "    def __getattr__(self, plot_type):\n",
    "        def wrapper(**trace):\n",
    "            opts = merge_dicts_deep(*expand_alias(**trace))\n",
    "            trace = assoc('type', plot_type)(opts)\n",
    "            self.data = trace\n",
    "            #return go.FigureWidget(data=self.data, layout=self.layout)\n",
    "        return wrapper\n",
    "    def show(self):\n",
    "        return go.FigureWidget(data=self.data, layout=self.layout)\n",
    "    \n",
    "    def set(self, prop, value):\n",
    "        self._figure = assoc_path(prop, value)(self._figure)\n",
    "    \n",
    "def figure(layout, *args, **kwargs):\n",
    "    return FigureC(layout, *args, **kwargs)"
   ]
  },
  {
   "cell_type": "code",
   "execution_count": 755,
   "metadata": {},
   "outputs": [],
   "source": [
    "#fig = figure(basic_layout, (2,2))\n",
    "\n"
   ]
  },
  {
   "cell_type": "code",
   "execution_count": 756,
   "metadata": {},
   "outputs": [],
   "source": [
    "#fig.index += 1"
   ]
  },
  {
   "cell_type": "code",
   "execution_count": 757,
   "metadata": {},
   "outputs": [],
   "source": [
    "#fig.index"
   ]
  },
  {
   "cell_type": "code",
   "execution_count": 758,
   "metadata": {},
   "outputs": [],
   "source": [
    "#print(fig.row, fig.col)"
   ]
  },
  {
   "cell_type": "code",
   "execution_count": 759,
   "metadata": {},
   "outputs": [],
   "source": [
    "#merge_dicts_deep(*expand_alias(**{'x':[1,2], 'mode': 'markers', 'marker.size': 10}))"
   ]
  },
  {
   "cell_type": "code",
   "execution_count": 775,
   "metadata": {},
   "outputs": [
    {
     "name": "stdout",
     "output_type": "stream",
     "text": [
      "This is the format of your plot grid:\n",
      "[ (1,1) x1,y1 ]  [ (1,2) x2,y2 ]\n",
      "[ (2,1) x3,y3 ]  [ (2,2) x4,y4 ]\n",
      "\n",
      "row: 1, col: 1\n",
      "index! 1\n",
      "row: 1, col: 2\n"
     ]
    },
    {
     "ename": "ValueError",
     "evalue": "\n        If specified, the rows parameter must be a list or tuple of integers\n        of length 1 (The number of traces being added)\n\n        Received: [1]\n        ",
     "output_type": "error",
     "traceback": [
      "\u001b[0;31m---------------------------------------------------------------------------\u001b[0m",
      "\u001b[0;31mValueError\u001b[0m                                Traceback (most recent call last)",
      "\u001b[0;32m<ipython-input-775-16de51b15e77>\u001b[0m in \u001b[0;36m<module>\u001b[0;34m()\u001b[0m\n\u001b[1;32m     21\u001b[0m                     \u001b[0mtitle\u001b[0m\u001b[0;34m=\u001b[0m\u001b[0;34m'Z'\u001b[0m\u001b[0;34m,\u001b[0m\u001b[0;34m\u001b[0m\u001b[0m\n\u001b[1;32m     22\u001b[0m                     \u001b[0mtickangle\u001b[0m\u001b[0;34m=\u001b[0m\u001b[0;36m45\u001b[0m\u001b[0;34m,\u001b[0m\u001b[0;34m\u001b[0m\u001b[0m\n\u001b[0;32m---> 23\u001b[0;31m                     \u001b[0mx\u001b[0m\u001b[0;34m=\u001b[0m\u001b[0;34m-\u001b[0m\u001b[0;36m0.15\u001b[0m\u001b[0;34m,\u001b[0m\u001b[0;34m\u001b[0m\u001b[0m\n\u001b[0m\u001b[1;32m     24\u001b[0m                 )\n\u001b[1;32m     25\u001b[0m             ))\n",
      "\u001b[0;32m<ipython-input-769-3e8ae848d5b3>\u001b[0m in \u001b[0;36mwrapper\u001b[0;34m(**trace)\u001b[0m\n\u001b[1;32m     55\u001b[0m             \u001b[0mopts\u001b[0m \u001b[0;34m=\u001b[0m \u001b[0mmerge_dicts_deep\u001b[0m\u001b[0;34m(\u001b[0m\u001b[0;34m*\u001b[0m\u001b[0mexpand_alias\u001b[0m\u001b[0;34m(\u001b[0m\u001b[0;34m**\u001b[0m\u001b[0mtrace\u001b[0m\u001b[0;34m)\u001b[0m\u001b[0;34m)\u001b[0m\u001b[0;34m\u001b[0m\u001b[0m\n\u001b[1;32m     56\u001b[0m             \u001b[0mtrace\u001b[0m \u001b[0;34m=\u001b[0m \u001b[0massoc\u001b[0m\u001b[0;34m(\u001b[0m\u001b[0;34m'type'\u001b[0m\u001b[0;34m,\u001b[0m \u001b[0mplot_type\u001b[0m\u001b[0;34m)\u001b[0m\u001b[0;34m(\u001b[0m\u001b[0mopts\u001b[0m\u001b[0;34m)\u001b[0m\u001b[0;34m\u001b[0m\u001b[0m\n\u001b[0;32m---> 57\u001b[0;31m             \u001b[0mself\u001b[0m\u001b[0;34m.\u001b[0m\u001b[0mdata\u001b[0m \u001b[0;34m=\u001b[0m \u001b[0mtrace\u001b[0m\u001b[0;34m\u001b[0m\u001b[0m\n\u001b[0m\u001b[1;32m     58\u001b[0m             \u001b[0;31m#return go.FigureWidget(data=self.data, layout=self.layout)\u001b[0m\u001b[0;34m\u001b[0m\u001b[0;34m\u001b[0m\u001b[0m\n\u001b[1;32m     59\u001b[0m         \u001b[0;32mreturn\u001b[0m \u001b[0mwrapper\u001b[0m\u001b[0;34m\u001b[0m\u001b[0m\n",
      "\u001b[0;32m<ipython-input-769-3e8ae848d5b3>\u001b[0m in \u001b[0;36mdata\u001b[0;34m(self, trace)\u001b[0m\n\u001b[1;32m     27\u001b[0m         \u001b[0;31m#print('TRACE', trace)\u001b[0m\u001b[0;34m\u001b[0m\u001b[0;34m\u001b[0m\u001b[0m\n\u001b[1;32m     28\u001b[0m         \u001b[0mprint\u001b[0m\u001b[0;34m(\u001b[0m\u001b[0;34m'row: {}, col: {}'\u001b[0m\u001b[0;34m.\u001b[0m\u001b[0mformat\u001b[0m\u001b[0;34m(\u001b[0m\u001b[0mself\u001b[0m\u001b[0;34m.\u001b[0m\u001b[0mrow\u001b[0m\u001b[0;34m,\u001b[0m \u001b[0mself\u001b[0m\u001b[0;34m.\u001b[0m\u001b[0mcol\u001b[0m\u001b[0;34m)\u001b[0m\u001b[0;34m)\u001b[0m\u001b[0;34m\u001b[0m\u001b[0m\n\u001b[0;32m---> 29\u001b[0;31m         \u001b[0mself\u001b[0m\u001b[0;34m.\u001b[0m\u001b[0m_figure\u001b[0m\u001b[0;34m.\u001b[0m\u001b[0mappend_trace\u001b[0m\u001b[0;34m(\u001b[0m\u001b[0mtrace\u001b[0m\u001b[0;34m,\u001b[0m \u001b[0;34m*\u001b[0m\u001b[0;34m(\u001b[0m\u001b[0mself\u001b[0m\u001b[0;34m.\u001b[0m\u001b[0mrow\u001b[0m\u001b[0;34m,\u001b[0m \u001b[0mself\u001b[0m\u001b[0;34m.\u001b[0m\u001b[0mcol\u001b[0m\u001b[0;34m)\u001b[0m\u001b[0;34m)\u001b[0m\u001b[0;34m\u001b[0m\u001b[0m\n\u001b[0m\u001b[1;32m     30\u001b[0m         \u001b[0;31m#print('DATA', self._figure.data)\u001b[0m\u001b[0;34m\u001b[0m\u001b[0;34m\u001b[0m\u001b[0m\n\u001b[1;32m     31\u001b[0m         \u001b[0mself\u001b[0m\u001b[0;34m.\u001b[0m\u001b[0mindex\u001b[0m \u001b[0;34m+=\u001b[0m \u001b[0;36m1\u001b[0m\u001b[0;34m\u001b[0m\u001b[0m\n",
      "\u001b[0;32m~/miniconda3/lib/python3.6/site-packages/plotly/basedatatypes.py\u001b[0m in \u001b[0;36mappend_trace\u001b[0;34m(self, trace, row, col)\u001b[0m\n\u001b[1;32m   1164\u001b[0m \"\"\", DeprecationWarning)\n\u001b[1;32m   1165\u001b[0m \u001b[0;34m\u001b[0m\u001b[0m\n\u001b[0;32m-> 1166\u001b[0;31m         \u001b[0mself\u001b[0m\u001b[0;34m.\u001b[0m\u001b[0madd_trace\u001b[0m\u001b[0;34m(\u001b[0m\u001b[0mtrace\u001b[0m\u001b[0;34m=\u001b[0m\u001b[0mtrace\u001b[0m\u001b[0;34m,\u001b[0m \u001b[0mrow\u001b[0m\u001b[0;34m=\u001b[0m\u001b[0mrow\u001b[0m\u001b[0;34m,\u001b[0m \u001b[0mcol\u001b[0m\u001b[0;34m=\u001b[0m\u001b[0mcol\u001b[0m\u001b[0;34m)\u001b[0m\u001b[0;34m\u001b[0m\u001b[0m\n\u001b[0m\u001b[1;32m   1167\u001b[0m \u001b[0;34m\u001b[0m\u001b[0m\n\u001b[1;32m   1168\u001b[0m     \u001b[0;32mdef\u001b[0m \u001b[0m_set_trace_grid_position\u001b[0m\u001b[0;34m(\u001b[0m\u001b[0mself\u001b[0m\u001b[0;34m,\u001b[0m \u001b[0mtrace\u001b[0m\u001b[0;34m,\u001b[0m \u001b[0mrow\u001b[0m\u001b[0;34m,\u001b[0m \u001b[0mcol\u001b[0m\u001b[0;34m)\u001b[0m\u001b[0;34m:\u001b[0m\u001b[0;34m\u001b[0m\u001b[0m\n",
      "\u001b[0;32m~/miniconda3/lib/python3.6/site-packages/plotly/basedatatypes.py\u001b[0m in \u001b[0;36madd_trace\u001b[0;34m(self, trace, row, col)\u001b[0m\n\u001b[1;32m   1011\u001b[0m         return self.add_traces(data=[trace],\n\u001b[1;32m   1012\u001b[0m                                \u001b[0mrows\u001b[0m\u001b[0;34m=\u001b[0m\u001b[0;34m[\u001b[0m\u001b[0mrow\u001b[0m\u001b[0;34m]\u001b[0m \u001b[0;32mif\u001b[0m \u001b[0mrow\u001b[0m \u001b[0;32mis\u001b[0m \u001b[0;32mnot\u001b[0m \u001b[0;32mNone\u001b[0m \u001b[0;32melse\u001b[0m \u001b[0;32mNone\u001b[0m\u001b[0;34m,\u001b[0m\u001b[0;34m\u001b[0m\u001b[0m\n\u001b[0;32m-> 1013\u001b[0;31m                                \u001b[0mcols\u001b[0m\u001b[0;34m=\u001b[0m\u001b[0;34m[\u001b[0m\u001b[0mcol\u001b[0m\u001b[0;34m]\u001b[0m \u001b[0;32mif\u001b[0m \u001b[0mcol\u001b[0m \u001b[0;32mis\u001b[0m \u001b[0;32mnot\u001b[0m \u001b[0;32mNone\u001b[0m \u001b[0;32melse\u001b[0m \u001b[0;32mNone\u001b[0m\u001b[0;34m\u001b[0m\u001b[0m\n\u001b[0m\u001b[1;32m   1014\u001b[0m                                )[0]\n\u001b[1;32m   1015\u001b[0m \u001b[0;34m\u001b[0m\u001b[0m\n",
      "\u001b[0;32m~/miniconda3/lib/python3.6/site-packages/plotly/basedatatypes.py\u001b[0m in \u001b[0;36madd_traces\u001b[0;34m(self, data, rows, cols)\u001b[0m\n\u001b[1;32m   1078\u001b[0m         \u001b[0;31m# Validate rows / cols\u001b[0m\u001b[0;34m\u001b[0m\u001b[0;34m\u001b[0m\u001b[0m\n\u001b[1;32m   1079\u001b[0m         \u001b[0mn\u001b[0m \u001b[0;34m=\u001b[0m \u001b[0mlen\u001b[0m\u001b[0;34m(\u001b[0m\u001b[0mdata\u001b[0m\u001b[0;34m)\u001b[0m\u001b[0;34m\u001b[0m\u001b[0m\n\u001b[0;32m-> 1080\u001b[0;31m         \u001b[0mBaseFigure\u001b[0m\u001b[0;34m.\u001b[0m\u001b[0m_validate_rows_cols\u001b[0m\u001b[0;34m(\u001b[0m\u001b[0;34m'rows'\u001b[0m\u001b[0;34m,\u001b[0m \u001b[0mn\u001b[0m\u001b[0;34m,\u001b[0m \u001b[0mrows\u001b[0m\u001b[0;34m)\u001b[0m\u001b[0;34m\u001b[0m\u001b[0m\n\u001b[0m\u001b[1;32m   1081\u001b[0m         \u001b[0mBaseFigure\u001b[0m\u001b[0;34m.\u001b[0m\u001b[0m_validate_rows_cols\u001b[0m\u001b[0;34m(\u001b[0m\u001b[0;34m'cols'\u001b[0m\u001b[0;34m,\u001b[0m \u001b[0mn\u001b[0m\u001b[0;34m,\u001b[0m \u001b[0mcols\u001b[0m\u001b[0;34m)\u001b[0m\u001b[0;34m\u001b[0m\u001b[0m\n\u001b[1;32m   1082\u001b[0m \u001b[0;34m\u001b[0m\u001b[0m\n",
      "\u001b[0;32m~/miniconda3/lib/python3.6/site-packages/plotly/basedatatypes.py\u001b[0m in \u001b[0;36m_validate_rows_cols\u001b[0;34m(name, n, vals)\u001b[0m\n\u001b[1;32m    936\u001b[0m             \u001b[0;32mif\u001b[0m \u001b[0;34m[\u001b[0m\u001b[0mr\u001b[0m \u001b[0;32mfor\u001b[0m \u001b[0mr\u001b[0m \u001b[0;32min\u001b[0m \u001b[0mvals\u001b[0m \u001b[0;32mif\u001b[0m \u001b[0;32mnot\u001b[0m \u001b[0misinstance\u001b[0m\u001b[0;34m(\u001b[0m\u001b[0mr\u001b[0m\u001b[0;34m,\u001b[0m \u001b[0mint\u001b[0m\u001b[0;34m)\u001b[0m\u001b[0;34m]\u001b[0m\u001b[0;34m:\u001b[0m\u001b[0;34m\u001b[0m\u001b[0m\n\u001b[1;32m    937\u001b[0m                 BaseFigure._raise_invalid_rows_cols(\n\u001b[0;32m--> 938\u001b[0;31m                     name=name, n=n, invalid=vals)\n\u001b[0m\u001b[1;32m    939\u001b[0m         \u001b[0;32melse\u001b[0m\u001b[0;34m:\u001b[0m\u001b[0;34m\u001b[0m\u001b[0m\n\u001b[1;32m    940\u001b[0m             \u001b[0mBaseFigure\u001b[0m\u001b[0;34m.\u001b[0m\u001b[0m_raise_invalid_rows_cols\u001b[0m\u001b[0;34m(\u001b[0m\u001b[0mname\u001b[0m\u001b[0;34m=\u001b[0m\u001b[0mname\u001b[0m\u001b[0;34m,\u001b[0m \u001b[0mn\u001b[0m\u001b[0;34m=\u001b[0m\u001b[0mn\u001b[0m\u001b[0;34m,\u001b[0m \u001b[0minvalid\u001b[0m\u001b[0;34m=\u001b[0m\u001b[0mvals\u001b[0m\u001b[0;34m)\u001b[0m\u001b[0;34m\u001b[0m\u001b[0m\n",
      "\u001b[0;32m~/miniconda3/lib/python3.6/site-packages/plotly/basedatatypes.py\u001b[0m in \u001b[0;36m_raise_invalid_rows_cols\u001b[0;34m(name, n, invalid)\u001b[0m\n\u001b[1;32m    923\u001b[0m         \"\"\".format(name=name, n=n, invalid=invalid)\n\u001b[1;32m    924\u001b[0m \u001b[0;34m\u001b[0m\u001b[0m\n\u001b[0;32m--> 925\u001b[0;31m         \u001b[0;32mraise\u001b[0m \u001b[0mValueError\u001b[0m\u001b[0;34m(\u001b[0m\u001b[0mrows_err_msg\u001b[0m\u001b[0;34m)\u001b[0m\u001b[0;34m\u001b[0m\u001b[0m\n\u001b[0m\u001b[1;32m    926\u001b[0m \u001b[0;34m\u001b[0m\u001b[0m\n\u001b[1;32m    927\u001b[0m     \u001b[0;34m@\u001b[0m\u001b[0mstaticmethod\u001b[0m\u001b[0;34m\u001b[0m\u001b[0m\n",
      "\u001b[0;31mValueError\u001b[0m: \n        If specified, the rows parameter must be a list or tuple of integers\n        of length 1 (The number of traces being added)\n\n        Received: [1]\n        "
     ]
    }
   ],
   "source": [
    "fig = figure(basic_layout, subplots=(2,2))\n",
    "fig.scatter(x=np.random.rand(10), \n",
    "            y=np.random.rand(10), \n",
    "            mode='markers', \n",
    "            marker=dict(\n",
    "                color=np.random.rand(10),\n",
    "                colorscale='Viridis',\n",
    "                colorbar=dict(\n",
    "                    title='Z',\n",
    "                    tickangle=45,\n",
    "                    x=-0.15,\n",
    "                )\n",
    "            ))\n",
    "fig.scatter(x=np.random.rand(10), \n",
    "            y=np.random.rand(10), \n",
    "            mode='markers', \n",
    "            marker=dict(\n",
    "                color=np.random.rand(10),\n",
    "                colorscale='Viridis',\n",
    "                colorbar=dict(\n",
    "                    title='Z',\n",
    "                    tickangle=45,\n",
    "                    x=-0.15,\n",
    "                )\n",
    "            ))\n",
    "fig.scatter(x=np.random.rand(10), \n",
    "            y=np.random.rand(10), \n",
    "            mode='markers', \n",
    "            marker=dict(\n",
    "                color=np.random.rand(10),\n",
    "                colorscale='Viridis',\n",
    "                colorbar=dict(\n",
    "                    title='Z',\n",
    "                    tickangle=45,\n",
    "                    x=-0.15,\n",
    "                )\n",
    "            ))\n",
    "\n",
    "fig.scatter(x=np.random.rand(10), \n",
    "            y=np.random.rand(10), \n",
    "            mode='markers', \n",
    "            marker=dict(\n",
    "                color=np.random.rand(10),\n",
    "                colorscale='Viridis',\n",
    "                colorbar=dict(\n",
    "                    title='Z',\n",
    "                    tickangle=45,\n",
    "                    x=-0.15,\n",
    "                )\n",
    "            ))\n",
    "\n",
    "# fig.scatter(x=np.random.rand(10), \n",
    "#             y=np.random.rand(10), \n",
    "#             mode='markers', \n",
    "#             marker=dict(\n",
    "#                 color=np.random.rand(10),\n",
    "#                 colorscale='Viridis',\n",
    "#                 colorbar=dict(\n",
    "#                     title='Z',\n",
    "#                     tickangle=45,\n",
    "#                     x=-0.15,\n",
    "#                 )\n",
    "#             ))\n",
    "#\n",
    "#fig.show()"
   ]
  },
  {
   "cell_type": "code",
   "execution_count": 646,
   "metadata": {},
   "outputs": [],
   "source": [
    "from plotly import tools\n"
   ]
  },
  {
   "cell_type": "code",
   "execution_count": 773,
   "metadata": {},
   "outputs": [
    {
     "name": "stdout",
     "output_type": "stream",
     "text": [
      "This is the format of your plot grid:\n",
      "[ (1,1) x1,y1 ]\n",
      "\n"
     ]
    }
   ],
   "source": [
    "fig = figure(basic_layout)\n",
    "#fig.histogram(x=np.random.randn(500))\n"
   ]
  },
  {
   "cell_type": "code",
   "execution_count": 1157,
   "metadata": {},
   "outputs": [],
   "source": [
    "from operator import mul"
   ]
  },
  {
   "cell_type": "code",
   "execution_count": 1158,
   "metadata": {},
   "outputs": [
    {
     "name": "stdout",
     "output_type": "stream",
     "text": [
      "This is the format of your plot grid:\n",
      "[ (1,1) x1,y1 ]  [ (1,2) x2,y2 ]\n",
      "[ (2,1) x3,y3 ]  [ (2,2) x4,y4 ]\n",
      "[ (3,1) x5,y5 ]  [ (3,2) x6,y6 ]\n",
      "\n"
     ]
    }
   ],
   "source": [
    "x = ['1970-01-01', '1970-01-01', '1970-02-01', '1970-04-01', '1970-01-02', '1972-01-31', '1970-02-13', '1971-04-19']\n",
    "\n",
    "\n",
    "trace0 = go.Histogram(\n",
    "    x=x,\n",
    "    nbinsx = 4,         \n",
    "  )\n",
    "trace1 = go.Histogram(\n",
    "    x=x,\n",
    "    nbinsx = 8,   \n",
    "  )\n",
    "trace2 = go.Histogram(\n",
    "    x=x,\n",
    "    nbinsx = 10,     \n",
    "  )\n",
    "trace3 = go.Histogram(\n",
    "    x=x,\n",
    "    xbins=dict(\n",
    "        start='1969-11-15',\n",
    "        end='1972-03-31',\n",
    "        size= 'M18'),\n",
    "    autobinx = False\n",
    ")\n",
    "trace4 = go.Histogram(\n",
    "    x=x,\n",
    "    xbins=dict(\n",
    "        start='1969-11-15',\n",
    "        end='1972-03-31',\n",
    "        size= 'M4'),\n",
    "    autobinx = False\n",
    ")\n",
    "trace5 = go.Histogram(\n",
    "    x=x,\n",
    "    xbins=dict(\n",
    "        start='1969-11-15',\n",
    "        end='1972-03-31',\n",
    "        size= 'M2'),\n",
    "    autobinx = False\n",
    ")\n",
    "  \n",
    "fig = tools.make_subplots(rows=3, cols=2)\n",
    "fig.append_trace(trace0, 1, 1)\n",
    "fig.append_trace(trace1, 1, 2)\n",
    "fig.append_trace(trace2, 2, 1)\n",
    "fig.append_trace(trace3, 2, 2)\n",
    "fig.append_trace(trace4, 3, 1)\n",
    "fig.append_trace(trace5, 3, 2)\n"
   ]
  },
  {
   "cell_type": "code",
   "execution_count": 833,
   "metadata": {},
   "outputs": [],
   "source": [
    "from functools import singledispatch"
   ]
  },
  {
   "cell_type": "code",
   "execution_count": 1196,
   "metadata": {},
   "outputs": [
    {
     "data": {
      "text/plain": [
       "[[{'is3d': False}, {'is3d': True}], [{'is3d': False}, {'is3d': False}]]"
      ]
     },
     "execution_count": 1196,
     "metadata": {},
     "output_type": "execute_result"
    }
   ],
   "source": [
    "rank = [[2,3],[2,2]]\n",
    "[[{'is3d': True if r==3 else False} for r in rank_row ] for rank_row in rank]"
   ]
  },
  {
   "cell_type": "code",
   "execution_count": 1210,
   "metadata": {},
   "outputs": [],
   "source": [
    "@singledispatch\n",
    "def get_idx(loc):\n",
    "    pass\n",
    "\n",
    "@get_idx.register(tuple)\n",
    "def _(loc, shape):\n",
    "    row, col = loc\n",
    "    return np.ravel_multi_index((row-1,col-1), shape)\n",
    "    \n",
    "@get_idx.register(int)\n",
    "def _(loc, shape):\n",
    "    return loc\n",
    "\n",
    "@singledispatch\n",
    "def get_multi_idx(loc):\n",
    "    pass\n",
    "\n",
    "@get_multi_idx.register(int)\n",
    "def _(loc, shape):\n",
    "    # MUST BE int not np.int\n",
    "    return tuple([int(p+1) for p in np.unravel_index(loc, shape)])\n",
    "    \n",
    "@get_multi_idx.register(tuple)\n",
    "def _(loc, shape):\n",
    "    return loc\n",
    "    \n",
    "def assoc_paths(spec):\n",
    "    return lambda obj: [ assoc_path(path, value)(obj) for path, value in spec.items() ]\n",
    "\n",
    "def make_trace(plot_type, spec):\n",
    "    trace_data = getattr(go, plot_type.capitalize())()\n",
    "    assoc_paths(spec)(trace_data)\n",
    "    return trace_data\n",
    "\n",
    "class Figure2:\n",
    "    DIMS = ('x', 'y', 'z')\n",
    "    def __init__(self, subplots=(1,1), rank=[[2]]):\n",
    "        self._shape = subplots\n",
    "        self._dims = [ [self.DIMS[0:r] for r in rank_row] for rank_row in rank ]\n",
    "        #self._dims = self._dims\n",
    "        self._n_plots = reduce(mul, subplots, 1)\n",
    "        self._current_index = 0\n",
    "        self._figure = \\\n",
    "        tools.make_subplots(*subplots, \n",
    "                            specs=\\\n",
    "                            [[{'is_3d': True if r==3 else False} for r in rank_row ] for rank_row in rank])\n",
    "    \n",
    "    @property\n",
    "    def current_index(self):\n",
    "        return self._current_index\n",
    "    \n",
    "    @current_index.setter\n",
    "    def current_index(self, value):\n",
    "        self._current_index = value % self._n_plots \n",
    "    \n",
    "    def __getattr__(self, plot_type):\n",
    "        def wrapper(position=None, **trace):\n",
    "            #multi_idx = get_multi_idx(position or self._current_index, self._shape)\n",
    "            if position is None:\n",
    "                row, col = get_multi_idx(self._current_index, self._shape)\n",
    "            else:\n",
    "                row, col = position\n",
    "            result = make_trace(plot_type, trace)\n",
    "            #result = assoc('type', plot_type)(trace)\n",
    "            self._figure.append_trace(result, row=row, col=col)\n",
    "            self.current_index += 1\n",
    "        return wrapper\n",
    "\n",
    "    def _get_axis(self, dim, loc):\n",
    "        idx = get_idx(loc, self._shape)\n",
    "        if idx == 0:\n",
    "            return getattr(self._figure.layout, '{}axis{}'.format(dim, ''))\n",
    "        else:\n",
    "            return prop('{}axis{}'.format(dim, idx+1))(self._figure.layout)  \n",
    "        \n",
    "    def set_layout(self, spec):\n",
    "        assoc_paths(spec)(self._figure.layout)\n",
    "\n",
    "    def set_axes(self, spec):  \n",
    "        [assoc_paths(spec)(self._get_axis(axis, idx)) for idx in range(self._n_plots) for axis in self._dims[idx]]\n",
    "        \n",
    "    def show(self):\n",
    "        return go.FigureWidget(data=self._figure.data, layout=self._figure.layout)"
   ]
  },
  {
   "cell_type": "code",
   "execution_count": 1212,
   "metadata": {},
   "outputs": [
    {
     "name": "stdout",
     "output_type": "stream",
     "text": [
      "This is the format of your plot grid:\n",
      "[ (1,1) x1,y1 ]   [ (1,2) scene1 ]\n",
      "\n"
     ]
    }
   ],
   "source": [
    "fig = Figure2(subplots=(1,2), rank=[[2,3]])"
   ]
  },
  {
   "cell_type": "code",
   "execution_count": 1213,
   "metadata": {},
   "outputs": [
    {
     "data": {
      "text/plain": [
       "[[('x', 'y'), ('x', 'y', 'z')]]"
      ]
     },
     "execution_count": 1213,
     "metadata": {},
     "output_type": "execute_result"
    }
   ],
   "source": [
    "dims = ('x', 'y', 'z')\n"
   ]
  },
  {
   "cell_type": "code",
   "execution_count": 1201,
   "metadata": {},
   "outputs": [],
   "source": [
    "d = 'foo'"
   ]
  },
  {
   "cell_type": "code",
   "execution_count": null,
   "metadata": {},
   "outputs": [],
   "source": []
  },
  {
   "cell_type": "code",
   "execution_count": 1202,
   "metadata": {},
   "outputs": [
    {
     "data": {
      "text/plain": [
       "(1, 2)"
      ]
     },
     "execution_count": 1202,
     "metadata": {},
     "output_type": "execute_result"
    }
   ],
   "source": [
    "fig._shape"
   ]
  },
  {
   "cell_type": "code",
   "execution_count": 1203,
   "metadata": {},
   "outputs": [],
   "source": [
    "DARK_THEME_LAYOUT = {\n",
    "    'paper_bgcolor': 'rgba(0,0,0,0)', \n",
    "    'plot_bgcolor': 'rgba(0,0,0,0.25)',\n",
    "    'legend.font.color': 'white',\n",
    "    'titlefont.color': 'white',\n",
    "    #'colorbar.tickfont.color': 'white',\n",
    "}\n",
    "DARK_THEME_AXES = {\n",
    "    'tickfont.color': 'white',\n",
    "    'tickcolor': 'white',\n",
    "    'gridcolor': 'rgba(255,255,255,0.25)',\n",
    "    'zerolinecolor': 'rgba(255,255,255,0.5)',\n",
    "}"
   ]
  },
  {
   "cell_type": "code",
   "execution_count": null,
   "metadata": {},
   "outputs": [],
   "source": []
  },
  {
   "cell_type": "code",
   "execution_count": null,
   "metadata": {},
   "outputs": [],
   "source": []
  },
  {
   "cell_type": "code",
   "execution_count": null,
   "metadata": {},
   "outputs": [],
   "source": []
  },
  {
   "cell_type": "code",
   "execution_count": null,
   "metadata": {},
   "outputs": [],
   "source": []
  },
  {
   "cell_type": "code",
   "execution_count": null,
   "metadata": {},
   "outputs": [],
   "source": []
  },
  {
   "cell_type": "code",
   "execution_count": 1204,
   "metadata": {},
   "outputs": [
    {
     "ename": "NameError",
     "evalue": "name 'rank_row' is not defined",
     "output_type": "error",
     "traceback": [
      "\u001b[0;31m---------------------------------------------------------------------------\u001b[0m",
      "\u001b[0;31mNameError\u001b[0m                                 Traceback (most recent call last)",
      "\u001b[0;32m<ipython-input-1204-05117de767d0>\u001b[0m in \u001b[0;36m<module>\u001b[0;34m()\u001b[0m\n\u001b[0;32m----> 1\u001b[0;31m \u001b[0mfig\u001b[0m \u001b[0;34m=\u001b[0m \u001b[0mFigure2\u001b[0m\u001b[0;34m(\u001b[0m\u001b[0mrank\u001b[0m\u001b[0;34m=\u001b[0m\u001b[0;36m2\u001b[0m\u001b[0;34m,\u001b[0m\u001b[0msubplots\u001b[0m\u001b[0;34m=\u001b[0m\u001b[0;34m(\u001b[0m\u001b[0;36m1\u001b[0m\u001b[0;34m,\u001b[0m\u001b[0;36m2\u001b[0m\u001b[0;34m)\u001b[0m\u001b[0;34m)\u001b[0m\u001b[0;34m\u001b[0m\u001b[0m\n\u001b[0m\u001b[1;32m      2\u001b[0m \u001b[0mfig\u001b[0m\u001b[0;34m.\u001b[0m\u001b[0mhistogram\u001b[0m\u001b[0;34m(\u001b[0m\u001b[0;34m**\u001b[0m\u001b[0mdict\u001b[0m\u001b[0;34m(\u001b[0m\u001b[0mx\u001b[0m\u001b[0;34m=\u001b[0m\u001b[0mx\u001b[0m\u001b[0;34m,\u001b[0m \u001b[0mnbinsx\u001b[0m \u001b[0;34m=\u001b[0m \u001b[0;36m2\u001b[0m\u001b[0;34m,\u001b[0m \u001b[0mname\u001b[0m\u001b[0;34m=\u001b[0m\u001b[0;34m'plot 1'\u001b[0m\u001b[0;34m,\u001b[0m \u001b[0mlegendgroup\u001b[0m\u001b[0;34m=\u001b[0m\u001b[0;34m'group1'\u001b[0m\u001b[0;34m)\u001b[0m\u001b[0;34m)\u001b[0m\u001b[0;34m\u001b[0m\u001b[0m\n\u001b[1;32m      3\u001b[0m \u001b[0mfig\u001b[0m\u001b[0;34m.\u001b[0m\u001b[0mhistogram\u001b[0m\u001b[0;34m(\u001b[0m\u001b[0;34m**\u001b[0m\u001b[0mdict\u001b[0m\u001b[0;34m(\u001b[0m\u001b[0mx\u001b[0m\u001b[0;34m=\u001b[0m\u001b[0mx\u001b[0m\u001b[0;34m,\u001b[0m \u001b[0mnbinsx\u001b[0m \u001b[0;34m=\u001b[0m \u001b[0;36m8\u001b[0m\u001b[0;34m,\u001b[0m \u001b[0mlegendgroup\u001b[0m\u001b[0;34m=\u001b[0m\u001b[0;34m'group2'\u001b[0m\u001b[0;34m)\u001b[0m\u001b[0;34m)\u001b[0m\u001b[0;34m\u001b[0m\u001b[0m\n\u001b[1;32m      4\u001b[0m \u001b[0mfig\u001b[0m\u001b[0;34m.\u001b[0m\u001b[0mhistogram\u001b[0m\u001b[0;34m(\u001b[0m\u001b[0;34m**\u001b[0m\u001b[0mdict\u001b[0m\u001b[0;34m(\u001b[0m\u001b[0mx\u001b[0m\u001b[0;34m=\u001b[0m\u001b[0mx\u001b[0m\u001b[0;34m,\u001b[0m \u001b[0mnbinsx\u001b[0m \u001b[0;34m=\u001b[0m \u001b[0;36m2\u001b[0m\u001b[0;34m,\u001b[0m \u001b[0mlegendgroup\u001b[0m\u001b[0;34m=\u001b[0m\u001b[0;34m'group1'\u001b[0m\u001b[0;34m)\u001b[0m\u001b[0;34m)\u001b[0m\u001b[0;34m\u001b[0m\u001b[0m\n\u001b[1;32m      5\u001b[0m \u001b[0mfig\u001b[0m\u001b[0;34m.\u001b[0m\u001b[0mhistogram\u001b[0m\u001b[0;34m(\u001b[0m\u001b[0;34m**\u001b[0m\u001b[0mdict\u001b[0m\u001b[0;34m(\u001b[0m\u001b[0mx\u001b[0m\u001b[0;34m=\u001b[0m\u001b[0mx\u001b[0m\u001b[0;34m,\u001b[0m \u001b[0mnbinsx\u001b[0m \u001b[0;34m=\u001b[0m \u001b[0;36m8\u001b[0m\u001b[0;34m,\u001b[0m \u001b[0mlegendgroup\u001b[0m\u001b[0;34m=\u001b[0m\u001b[0;34m'group2'\u001b[0m\u001b[0;34m)\u001b[0m\u001b[0;34m)\u001b[0m\u001b[0;34m\u001b[0m\u001b[0m\n",
      "\u001b[0;32m<ipython-input-1200-3506936fa5ac>\u001b[0m in \u001b[0;36m__init__\u001b[0;34m(self, subplots, rank)\u001b[0m\n\u001b[1;32m     37\u001b[0m     \u001b[0;32mdef\u001b[0m \u001b[0m__init__\u001b[0m\u001b[0;34m(\u001b[0m\u001b[0mself\u001b[0m\u001b[0;34m,\u001b[0m \u001b[0msubplots\u001b[0m\u001b[0;34m=\u001b[0m\u001b[0;34m(\u001b[0m\u001b[0;36m1\u001b[0m\u001b[0;34m,\u001b[0m\u001b[0;36m1\u001b[0m\u001b[0;34m)\u001b[0m\u001b[0;34m,\u001b[0m \u001b[0mrank\u001b[0m\u001b[0;34m=\u001b[0m\u001b[0;34m[\u001b[0m\u001b[0;34m[\u001b[0m\u001b[0;36m2\u001b[0m\u001b[0;34m]\u001b[0m\u001b[0;34m]\u001b[0m\u001b[0;34m)\u001b[0m\u001b[0;34m:\u001b[0m\u001b[0;34m\u001b[0m\u001b[0m\n\u001b[1;32m     38\u001b[0m         \u001b[0mself\u001b[0m\u001b[0;34m.\u001b[0m\u001b[0m_shape\u001b[0m \u001b[0;34m=\u001b[0m \u001b[0msubplots\u001b[0m\u001b[0;34m\u001b[0m\u001b[0m\n\u001b[0;32m---> 39\u001b[0;31m         \u001b[0mself\u001b[0m\u001b[0;34m.\u001b[0m\u001b[0m_dims\u001b[0m \u001b[0;34m=\u001b[0m \u001b[0;34m[\u001b[0m \u001b[0mself\u001b[0m\u001b[0;34m.\u001b[0m\u001b[0mDIMS\u001b[0m\u001b[0;34m[\u001b[0m\u001b[0;36m0\u001b[0m\u001b[0;34m:\u001b[0m\u001b[0mr\u001b[0m\u001b[0;34m]\u001b[0m \u001b[0;32mfor\u001b[0m \u001b[0mr\u001b[0m \u001b[0;32min\u001b[0m \u001b[0mrank_row\u001b[0m \u001b[0;32mfor\u001b[0m \u001b[0mrank_row\u001b[0m \u001b[0;32min\u001b[0m \u001b[0mrank\u001b[0m \u001b[0;34m]\u001b[0m\u001b[0;34m\u001b[0m\u001b[0m\n\u001b[0m\u001b[1;32m     40\u001b[0m         \u001b[0mself\u001b[0m\u001b[0;34m.\u001b[0m\u001b[0m_n_plots\u001b[0m \u001b[0;34m=\u001b[0m \u001b[0mreduce\u001b[0m\u001b[0;34m(\u001b[0m\u001b[0mmul\u001b[0m\u001b[0;34m,\u001b[0m \u001b[0msubplots\u001b[0m\u001b[0;34m,\u001b[0m \u001b[0;36m1\u001b[0m\u001b[0;34m)\u001b[0m\u001b[0;34m\u001b[0m\u001b[0m\n\u001b[1;32m     41\u001b[0m         \u001b[0mself\u001b[0m\u001b[0;34m.\u001b[0m\u001b[0m_current_index\u001b[0m \u001b[0;34m=\u001b[0m \u001b[0;36m0\u001b[0m\u001b[0;34m\u001b[0m\u001b[0m\n",
      "\u001b[0;31mNameError\u001b[0m: name 'rank_row' is not defined"
     ]
    }
   ],
   "source": [
    "fig = Figure2(rank=2,subplots=(1,2))\n",
    "fig.histogram(**dict(x=x, nbinsx = 2, name='plot 1', legendgroup='group1'))\n",
    "fig.histogram(**dict(x=x, nbinsx = 8, legendgroup='group2'))\n",
    "fig.histogram(**dict(x=x, nbinsx = 2, legendgroup='group1'))\n",
    "fig.histogram(**dict(x=x, nbinsx = 8, legendgroup='group2'))\n",
    "fig.set_layout(DARK_THEME_LAYOUT)\n",
    "fig.set_axes(DARK_THEME_AXES)\n",
    "fig.set_layout({'title': 'Test Subplots', 'legend.tracegroupgap': 100})\n",
    "fig.set_axes({'tickangle': 45})\n",
    "fig.show()"
   ]
  },
  {
   "cell_type": "code",
   "execution_count": null,
   "metadata": {},
   "outputs": [],
   "source": []
  },
  {
   "cell_type": "code",
   "execution_count": 1227,
   "metadata": {},
   "outputs": [
    {
     "name": "stdout",
     "output_type": "stream",
     "text": [
      "This is the format of your plot grid:\n",
      "[ (1,1) x1,y1 ]   [ (1,2) scene1 ]\n",
      "\n"
     ]
    },
    {
     "data": {
      "application/vnd.jupyter.widget-view+json": {
       "model_id": "87ad4dfc56c346008233f5137666293d",
       "version_major": 2,
       "version_minor": 0
      },
      "text/plain": [
       "FigureWidget({\n",
       "    'data': [{'colorbar': {'tickfont': {'color': 'white'}},\n",
       "              'colorscale': 'Jet',\n",
       "…"
      ]
     },
     "metadata": {},
     "output_type": "display_data"
    }
   ],
   "source": [
    "fig = Figure2((1,2), rank=[[2,3]])\n",
    "contour_settings ={\n",
    "    'colorscale': 'Jet',\n",
    "    'contours.coloring': 'lines', \n",
    "    'colorbar.tickfont.color': 'white',\n",
    "}\n",
    "z = np.array([[10, 10.625, 12.5, 15.625, 20],\n",
    "   [5.625, 6.25, 8.125, 11.25, 15.625],\n",
    "   [2.5, 3.125, 5., 8.125, 12.5],\n",
    "   [0.625, 1.25, 3.125, 6.25, 10.625],\n",
    "   [0, 0.625, 2.5, 5.625, 10]])\n",
    "\n",
    "scene = {\n",
    "    'xaxis': {\n",
    "        'range': [0,10]\n",
    "    },\n",
    "    'yaxis': {\n",
    "        'range': [0,10]\n",
    "    },\n",
    "    'zaxis': {\n",
    "        'range': [0,10]\n",
    "    }\n",
    "}\n",
    "fig.contour(z=z, **contour_settings)\n",
    "x, y = np.meshgrid(np.arange(0, z.shape[1]), np.arange(0, z.shape[1]))\n",
    "fig.scatter3d(x=x, y=y, z=z, mode='markers', \n",
    "              **{\n",
    "                  'marker.size': 15, \n",
    "                  'marker.color': 'red',\n",
    "                  'scene': 'scene1',\n",
    "                  #'scene.zaxis.range': [0,10],\n",
    "              })\n",
    "#fig.set_layout(DARK_THEME_LAYOUT)\n",
    "#fig.set_axes(DARK_THEME_AXES)\n",
    "#fig.set_layout({'title': 'Test Subplots', 'legend.tracegroupgap': 100})\n",
    "#fig.set_axes({'tickangle': 45})\n",
    "fig._figure.layout['scene1'].update(scene)\n",
    "fig.show()"
   ]
  },
  {
   "cell_type": "code",
   "execution_count": 1223,
   "metadata": {},
   "outputs": [
    {
     "data": {
      "text/plain": [
       "'scene'"
      ]
     },
     "execution_count": 1223,
     "metadata": {},
     "output_type": "execute_result"
    }
   ],
   "source": [
    "fig._figure.data[1].scene"
   ]
  },
  {
   "cell_type": "code",
   "execution_count": 1032,
   "metadata": {},
   "outputs": [
    {
     "data": {
      "text/plain": [
       "3"
      ]
     },
     "execution_count": 1032,
     "metadata": {},
     "output_type": "execute_result"
    }
   ],
   "source": [
    "np.ravel_multi_index((2-1,2-1), (2,2))"
   ]
  },
  {
   "cell_type": "code",
   "execution_count": 797,
   "metadata": {},
   "outputs": [
    {
     "data": {
      "text/plain": [
       "(0, 0)"
      ]
     },
     "execution_count": 797,
     "metadata": {},
     "output_type": "execute_result"
    }
   ],
   "source": [
    "np.unravel_index(1-1, (2,2))"
   ]
  },
  {
   "cell_type": "code",
   "execution_count": 1113,
   "metadata": {},
   "outputs": [],
   "source": [
    "# fig = Figure2(2,2)\n",
    "\n",
    "# fig.histogram(dict(x=x, nbinsx = 4), 1, 1)\n",
    "# fig.histogram(dict(x=x, nbinsx = 8), 1, 2)\n",
    "# fig.set_layout('paper_bgcolor', 'rgba(0,0,0,0)')\n",
    "# fig.set_layout('plot_bgcolor', 'rgba(0,0,0,0.25)')\n",
    "# fig.set_layout('xaxis2.tickfont.color', 'white')\n",
    "\n",
    "\n",
    "# fig.show()"
   ]
  },
  {
   "cell_type": "code",
   "execution_count": 521,
   "metadata": {},
   "outputs": [],
   "source": [
    "fig.layout.paper_bgcolor = basic_layout['paper_bgcolor']\n",
    "fig.layout.plot_bgcolor = basic_layout['plot_bgcolor']\n",
    "fig.layout.title = basic_layout['title']"
   ]
  },
  {
   "cell_type": "code",
   "execution_count": 522,
   "metadata": {},
   "outputs": [
    {
     "data": {
      "application/vnd.jupyter.widget-view+json": {
       "model_id": "a0b5cbee319b4748b4657e726a1e2f78",
       "version_major": 2,
       "version_minor": 0
      },
      "text/plain": [
       "FigureWidget({\n",
       "    'data': [{'nbinsx': 4,\n",
       "              'type': 'histogram',\n",
       "              'uid': '6fb5126c-16…"
      ]
     },
     "metadata": {},
     "output_type": "display_data"
    }
   ],
   "source": [
    "go.FigureWidget(data=fig.data, layout=fig.layout)"
   ]
  },
  {
   "cell_type": "code",
   "execution_count": 778,
   "metadata": {},
   "outputs": [
    {
     "name": "stdout",
     "output_type": "stream",
     "text": [
      "This is the format of your plot grid:\n",
      "[ (1,1) x1,y1 ]  [ (1,2) x2,y2 ]\n",
      "[ (2,1) x3,y3 ]  [ (2,2) x4,y4 ]\n",
      "[ (3,1) x5,y5 ]  [ (3,2) x6,y6 ]\n",
      "\n"
     ]
    }
   ],
   "source": [
    "x = ['1970-01-01', '1970-01-01', '1970-02-01', '1970-04-01', '1970-01-02', '1972-01-31', '1970-02-13', '1971-04-19']\n",
    "\n",
    "\n",
    "trace0 = dict(\n",
    "    #type='histogram',\n",
    "    x=x,\n",
    "    nbinsx = 4,         \n",
    "  )\n",
    "trace1 = dict(\n",
    "    #type='histogram',\n",
    "    x=x,\n",
    "    nbinsx = 8,   \n",
    "  )\n",
    "trace2 = dict(\n",
    "    #type='histogram',\n",
    "    x=x,\n",
    "    nbinsx = 10,     \n",
    "  )\n",
    "trace3 = dict(\n",
    "    #type='histogram',\n",
    "    x=x,\n",
    "    xbins=dict(\n",
    "        start='1969-11-15',\n",
    "        end='1972-03-31',\n",
    "        size= 'M18'),\n",
    "    autobinx = False\n",
    ")\n",
    "trace4 = dict(\n",
    "    #type='histogram',\n",
    "    x=x,\n",
    "    xbins=dict(\n",
    "        start='1969-11-15',\n",
    "        end='1972-03-31',\n",
    "        size= 'M4'),\n",
    "    autobinx = False\n",
    ")\n",
    "trace5 = dict(\n",
    "    #type='histogram',\n",
    "    x=x,\n",
    "    xbins=dict(\n",
    "        start='1969-11-15',\n",
    "        end='1972-03-31',\n",
    "        size= 'M2'),\n",
    "    autobinx = False\n",
    ")\n",
    "  \n",
    "fig = Figure2(rows=3, cols=2)\n",
    "fig.append_trace(trace0, 1, 1)\n",
    "fig.append_trace(trace1, 1, 2)\n",
    "fig.append_trace(trace2, 2, 1)\n",
    "fig.append_trace(trace3, 2, 2)\n",
    "fig.append_trace(trace4, 3, 1)\n",
    "fig.append_trace(trace5, 3, 2)\n"
   ]
  },
  {
   "cell_type": "code",
   "execution_count": 779,
   "metadata": {},
   "outputs": [
    {
     "data": {
      "application/vnd.jupyter.widget-view+json": {
       "model_id": "177bfb0330d24cf29c6c4c026570d035",
       "version_major": 2,
       "version_minor": 0
      },
      "text/plain": [
       "FigureWidget({\n",
       "    'data': [{'nbinsx': 4,\n",
       "              'type': 'histogram',\n",
       "              'uid': '5722e91e-17…"
      ]
     },
     "metadata": {},
     "output_type": "display_data"
    }
   ],
   "source": [
    "go.FigureWidget(data=fig._data, layout=fig._layout)"
   ]
  },
  {
   "cell_type": "code",
   "execution_count": 1231,
   "metadata": {},
   "outputs": [
    {
     "name": "stdout",
     "output_type": "stream",
     "text": [
      "This is the format of your plot grid:\n",
      "[ (1,1) scene1 ]  [ (1,2) scene2 ]\n",
      "[ (2,1) scene3 ]  [ (2,2) scene4 ]\n",
      "\n"
     ]
    },
    {
     "data": {
      "application/vnd.jupyter.widget-view+json": {
       "model_id": "3c26c0db094f4ff38136d55274c0ec77",
       "version_major": 2,
       "version_minor": 0
      },
      "text/plain": [
       "FigureWidget({\n",
       "    'data': [{'scene': 'scene',\n",
       "              'type': 'scatter3d',\n",
       "              'uid': '0bd177…"
      ]
     },
     "metadata": {},
     "output_type": "display_data"
    }
   ],
   "source": [
    "x = np.linspace(-5, 80, 10)\n",
    "y = np.linspace(-5, 60, 10)\n",
    "xGrid, yGrid = np.meshgrid(y, x)\n",
    "z = xGrid ** 3 + yGrid ** 3\n",
    "\n",
    "scene = dict(\n",
    "    xaxis=dict(\n",
    "        gridcolor='rgb(255, 255, 255)',\n",
    "        zerolinecolor='rgb(255, 255, 255)',\n",
    "        showbackground=True,\n",
    "        backgroundcolor='rgb(230, 230,230)'\n",
    "    ),\n",
    "    yaxis=dict(\n",
    "        gridcolor='rgb(255, 255, 255)',\n",
    "        zerolinecolor='rgb(255, 255, 255)',\n",
    "        showbackground=True,\n",
    "        backgroundcolor='rgb(230, 230,230)'\n",
    "    ),\n",
    "    zaxis=dict(\n",
    "        gridcolor='rgb(255, 255, 255)',\n",
    "        zerolinecolor='rgb(255, 255, 255)',\n",
    "        showbackground=True,\n",
    "        backgroundcolor='rgb(230, 230,230)'\n",
    "    )\n",
    ")\n",
    "\n",
    "fig = tools.make_subplots(rows=2, cols=2,\n",
    "                          specs=[[{'is_3d': True}, {'is_3d': True}],\n",
    "                                 [{'is_3d': True}, {'is_3d': True}]])\n",
    "\n",
    "# adding surfaces to subplots.\n",
    "fig.append_trace(dict(type='scatter3d', x=x, y=y, z=z,\n",
    "                      scene='scene1'), 1, 1)\n",
    "fig.append_trace(dict(type='surface', x=x, y=y, z=z, colorscale='RdBu',\n",
    "                      scene='scene2', showscale=False), 1, 2)\n",
    "fig.append_trace(dict(type='surface', x=x, y=y, z=z, colorscale='YlOrRd',\n",
    "                      scene='scene3', showscale=False), 2, 1)\n",
    "fig.append_trace(dict(type='surface', x=x, y=y, z=z, colorscale='YlGnBu',\n",
    "                      scene='scene4', showscale=False), 2, 2)\n",
    "\n",
    "fig['layout'].update(title='subplots with different colorscales',\n",
    "                     height=800, width=800)\n",
    "fig['layout']['scene1'].update(scene)\n",
    "fig['layout']['scene2'].update(scene)\n",
    "fig['layout']['scene3'].update(scene)\n",
    "fig['layout']['scene4'].update(scene)\n",
    "go.FigureWidget(data=fig.data, layout=fig.layout)"
   ]
  },
  {
   "cell_type": "code",
   "execution_count": 1277,
   "metadata": {},
   "outputs": [
    {
     "ename": "ValueError",
     "evalue": "\n    Invalid value of type 'builtins.int' received for the 'domain[0]' property of layout.xaxis\n        Received value: 5\n\n    The 'domain[0]' property is a number and may be specified as:\n      - An int or float in the interval [0, 1]",
     "output_type": "error",
     "traceback": [
      "\u001b[0;31m---------------------------------------------------------------------------\u001b[0m",
      "\u001b[0;31mValueError\u001b[0m                                Traceback (most recent call last)",
      "\u001b[0;32m<ipython-input-1277-2ea291e07e01>\u001b[0m in \u001b[0;36m<module>\u001b[0;34m()\u001b[0m\n\u001b[1;32m     96\u001b[0m \u001b[0;34m\u001b[0m\u001b[0m\n\u001b[1;32m     97\u001b[0m \u001b[0;31m#layout['annotations'] = [annotations]\u001b[0m\u001b[0;34m\u001b[0m\u001b[0;34m\u001b[0m\u001b[0m\n\u001b[0;32m---> 98\u001b[0;31m \u001b[0mfig\u001b[0m \u001b[0;34m=\u001b[0m \u001b[0mgo\u001b[0m\u001b[0;34m.\u001b[0m\u001b[0mFigureWidget\u001b[0m\u001b[0;34m(\u001b[0m\u001b[0mdata\u001b[0m\u001b[0;34m=\u001b[0m\u001b[0mdata\u001b[0m\u001b[0;34m,\u001b[0m \u001b[0mlayout\u001b[0m\u001b[0;34m=\u001b[0m\u001b[0mlayout\u001b[0m\u001b[0;34m)\u001b[0m\u001b[0;34m\u001b[0m\u001b[0m\n\u001b[0m\u001b[1;32m     99\u001b[0m \u001b[0mfig\u001b[0m\u001b[0;34m\u001b[0m\u001b[0m\n",
      "\u001b[0;32m~/miniconda3/lib/python3.6/site-packages/plotly/graph_objs/_figurewidget.py\u001b[0m in \u001b[0;36m__init__\u001b[0;34m(self, data, layout, frames)\u001b[0m\n\u001b[1;32m    312\u001b[0m                         \u001b[0mrespective\u001b[0m \u001b[0mtraces\u001b[0m \u001b[0;32min\u001b[0m \u001b[0mthe\u001b[0m \u001b[0mdata\u001b[0m \u001b[0mattribute\u001b[0m\u001b[0;34m\u001b[0m\u001b[0m\n\u001b[1;32m    313\u001b[0m         \"\"\"\n\u001b[0;32m--> 314\u001b[0;31m         \u001b[0msuper\u001b[0m\u001b[0;34m(\u001b[0m\u001b[0mFigureWidget\u001b[0m\u001b[0;34m,\u001b[0m \u001b[0mself\u001b[0m\u001b[0;34m)\u001b[0m\u001b[0;34m.\u001b[0m\u001b[0m__init__\u001b[0m\u001b[0;34m(\u001b[0m\u001b[0mdata\u001b[0m\u001b[0;34m,\u001b[0m \u001b[0mlayout\u001b[0m\u001b[0;34m,\u001b[0m \u001b[0mframes\u001b[0m\u001b[0;34m)\u001b[0m\u001b[0;34m\u001b[0m\u001b[0m\n\u001b[0m\u001b[1;32m    315\u001b[0m \u001b[0;34m\u001b[0m\u001b[0m\n\u001b[1;32m    316\u001b[0m     def add_area(\n",
      "\u001b[0;32m~/miniconda3/lib/python3.6/site-packages/plotly/basewidget.py\u001b[0m in \u001b[0;36m__init__\u001b[0;34m(self, data, layout, frames)\u001b[0m\n\u001b[1;32m    126\u001b[0m         super(BaseFigureWidget, self).__init__(data=data,\n\u001b[1;32m    127\u001b[0m                                                \u001b[0mlayout_plotly\u001b[0m\u001b[0;34m=\u001b[0m\u001b[0mlayout\u001b[0m\u001b[0;34m,\u001b[0m\u001b[0;34m\u001b[0m\u001b[0m\n\u001b[0;32m--> 128\u001b[0;31m                                                frames=frames)\n\u001b[0m\u001b[1;32m    129\u001b[0m \u001b[0;34m\u001b[0m\u001b[0m\n\u001b[1;32m    130\u001b[0m         \u001b[0;31m# Validate Frames\u001b[0m\u001b[0;34m\u001b[0m\u001b[0;34m\u001b[0m\u001b[0m\n",
      "\u001b[0;32m~/miniconda3/lib/python3.6/site-packages/plotly/basedatatypes.py\u001b[0m in \u001b[0;36m__init__\u001b[0;34m(self, data, layout_plotly, frames)\u001b[0m\n\u001b[1;32m    155\u001b[0m \u001b[0;34m\u001b[0m\u001b[0m\n\u001b[1;32m    156\u001b[0m         \u001b[0;31m# ### Import Layout ###\u001b[0m\u001b[0;34m\u001b[0m\u001b[0;34m\u001b[0m\u001b[0m\n\u001b[0;32m--> 157\u001b[0;31m         \u001b[0mself\u001b[0m\u001b[0;34m.\u001b[0m\u001b[0m_layout_obj\u001b[0m \u001b[0;34m=\u001b[0m \u001b[0mself\u001b[0m\u001b[0;34m.\u001b[0m\u001b[0m_layout_validator\u001b[0m\u001b[0;34m.\u001b[0m\u001b[0mvalidate_coerce\u001b[0m\u001b[0;34m(\u001b[0m\u001b[0mlayout\u001b[0m\u001b[0;34m)\u001b[0m\u001b[0;34m\u001b[0m\u001b[0m\n\u001b[0m\u001b[1;32m    158\u001b[0m \u001b[0;34m\u001b[0m\u001b[0m\n\u001b[1;32m    159\u001b[0m         \u001b[0;31m# ### Import clone of layout properties ###\u001b[0m\u001b[0;34m\u001b[0m\u001b[0;34m\u001b[0m\u001b[0m\n",
      "\u001b[0;32m~/miniconda3/lib/python3.6/site-packages/_plotly_utils/basevalidators.py\u001b[0m in \u001b[0;36mvalidate_coerce\u001b[0;34m(self, v)\u001b[0m\n\u001b[1;32m   1790\u001b[0m \u001b[0;34m\u001b[0m\u001b[0m\n\u001b[1;32m   1791\u001b[0m         \u001b[0;32melif\u001b[0m \u001b[0misinstance\u001b[0m\u001b[0;34m(\u001b[0m\u001b[0mv\u001b[0m\u001b[0;34m,\u001b[0m \u001b[0mdict\u001b[0m\u001b[0;34m)\u001b[0m\u001b[0;34m:\u001b[0m\u001b[0;34m\u001b[0m\u001b[0m\n\u001b[0;32m-> 1792\u001b[0;31m             \u001b[0mv\u001b[0m \u001b[0;34m=\u001b[0m \u001b[0mself\u001b[0m\u001b[0;34m.\u001b[0m\u001b[0mdata_class\u001b[0m\u001b[0;34m(\u001b[0m\u001b[0;34m**\u001b[0m\u001b[0mv\u001b[0m\u001b[0;34m)\u001b[0m\u001b[0;34m\u001b[0m\u001b[0m\n\u001b[0m\u001b[1;32m   1793\u001b[0m \u001b[0;34m\u001b[0m\u001b[0m\n\u001b[1;32m   1794\u001b[0m         \u001b[0;32melif\u001b[0m \u001b[0misinstance\u001b[0m\u001b[0;34m(\u001b[0m\u001b[0mv\u001b[0m\u001b[0;34m,\u001b[0m \u001b[0mself\u001b[0m\u001b[0;34m.\u001b[0m\u001b[0mdata_class\u001b[0m\u001b[0;34m)\u001b[0m\u001b[0;34m:\u001b[0m\u001b[0;34m\u001b[0m\u001b[0m\n",
      "\u001b[0;32m~/miniconda3/lib/python3.6/site-packages/plotly/graph_objs/_layout.py\u001b[0m in \u001b[0;36m__init__\u001b[0;34m(self, arg, angularaxis, annotations, autosize, bargap, bargroupgap, barmode, barnorm, boxgap, boxgroupgap, boxmode, calendar, colorway, datarevision, direction, dragmode, font, geo, grid, height, hiddenlabels, hiddenlabelssrc, hidesources, hoverdistance, hoverlabel, hovermode, images, legend, mapbox, margin, orientation, paper_bgcolor, plot_bgcolor, polar, radialaxis, scene, selectdirection, separators, shapes, showlegend, sliders, spikedistance, template, ternary, title, titlefont, updatemenus, violingap, violingroupgap, violinmode, width, xaxis, yaxis, **kwargs)\u001b[0m\n\u001b[1;32m   3789\u001b[0m         \u001b[0;31m# Process unknown kwargs\u001b[0m\u001b[0;34m\u001b[0m\u001b[0;34m\u001b[0m\u001b[0m\n\u001b[1;32m   3790\u001b[0m         \u001b[0;31m# ----------------------\u001b[0m\u001b[0;34m\u001b[0m\u001b[0;34m\u001b[0m\u001b[0m\n\u001b[0;32m-> 3791\u001b[0;31m         \u001b[0mself\u001b[0m\u001b[0;34m.\u001b[0m\u001b[0m_process_kwargs\u001b[0m\u001b[0;34m(\u001b[0m\u001b[0;34m**\u001b[0m\u001b[0mdict\u001b[0m\u001b[0;34m(\u001b[0m\u001b[0marg\u001b[0m\u001b[0;34m,\u001b[0m \u001b[0;34m**\u001b[0m\u001b[0mkwargs\u001b[0m\u001b[0;34m)\u001b[0m\u001b[0;34m)\u001b[0m\u001b[0;34m\u001b[0m\u001b[0m\n\u001b[0m",
      "\u001b[0;32m~/miniconda3/lib/python3.6/site-packages/plotly/basedatatypes.py\u001b[0m in \u001b[0;36m_process_kwargs\u001b[0;34m(self, **kwargs)\u001b[0m\n\u001b[1;32m   3447\u001b[0m \u001b[0;34m\u001b[0m\u001b[0m\n\u001b[1;32m   3448\u001b[0m         \u001b[0;32mfor\u001b[0m \u001b[0mprop\u001b[0m\u001b[0;34m,\u001b[0m \u001b[0mvalue\u001b[0m \u001b[0;32min\u001b[0m \u001b[0msubplot_kwargs\u001b[0m\u001b[0;34m.\u001b[0m\u001b[0mitems\u001b[0m\u001b[0;34m(\u001b[0m\u001b[0;34m)\u001b[0m\u001b[0;34m:\u001b[0m\u001b[0;34m\u001b[0m\u001b[0m\n\u001b[0;32m-> 3449\u001b[0;31m             \u001b[0mself\u001b[0m\u001b[0;34m.\u001b[0m\u001b[0m_set_subplotid_prop\u001b[0m\u001b[0;34m(\u001b[0m\u001b[0mprop\u001b[0m\u001b[0;34m,\u001b[0m \u001b[0mvalue\u001b[0m\u001b[0;34m)\u001b[0m\u001b[0;34m\u001b[0m\u001b[0m\n\u001b[0m\u001b[1;32m   3450\u001b[0m \u001b[0;34m\u001b[0m\u001b[0m\n\u001b[1;32m   3451\u001b[0m     \u001b[0;32mdef\u001b[0m \u001b[0m_set_subplotid_prop\u001b[0m\u001b[0;34m(\u001b[0m\u001b[0mself\u001b[0m\u001b[0;34m,\u001b[0m \u001b[0mprop\u001b[0m\u001b[0;34m,\u001b[0m \u001b[0mvalue\u001b[0m\u001b[0;34m)\u001b[0m\u001b[0;34m:\u001b[0m\u001b[0;34m\u001b[0m\u001b[0m\n",
      "\u001b[0;32m~/miniconda3/lib/python3.6/site-packages/plotly/basedatatypes.py\u001b[0m in \u001b[0;36m_set_subplotid_prop\u001b[0;34m(self, prop, value)\u001b[0m\n\u001b[1;32m   3492\u001b[0m         \u001b[0;31m# validate/coerce/import subplot value. This must be called AFTER\u001b[0m\u001b[0;34m\u001b[0m\u001b[0;34m\u001b[0m\u001b[0m\n\u001b[1;32m   3493\u001b[0m         \u001b[0;31m# the validator instance is added to self._validators above.\u001b[0m\u001b[0;34m\u001b[0m\u001b[0;34m\u001b[0m\u001b[0m\n\u001b[0;32m-> 3494\u001b[0;31m         \u001b[0mself\u001b[0m\u001b[0;34m.\u001b[0m\u001b[0m_set_compound_prop\u001b[0m\u001b[0;34m(\u001b[0m\u001b[0mprop\u001b[0m\u001b[0;34m,\u001b[0m \u001b[0mvalue\u001b[0m\u001b[0;34m)\u001b[0m\u001b[0;34m\u001b[0m\u001b[0m\n\u001b[0m\u001b[1;32m   3495\u001b[0m         \u001b[0mself\u001b[0m\u001b[0;34m.\u001b[0m\u001b[0m_subplotid_props\u001b[0m\u001b[0;34m.\u001b[0m\u001b[0madd\u001b[0m\u001b[0;34m(\u001b[0m\u001b[0mprop\u001b[0m\u001b[0;34m)\u001b[0m\u001b[0;34m\u001b[0m\u001b[0m\n\u001b[1;32m   3496\u001b[0m \u001b[0;34m\u001b[0m\u001b[0m\n",
      "\u001b[0;32m~/miniconda3/lib/python3.6/site-packages/plotly/basedatatypes.py\u001b[0m in \u001b[0;36m_set_compound_prop\u001b[0;34m(self, prop, val)\u001b[0m\n\u001b[1;32m   2963\u001b[0m         \u001b[0mvalidator\u001b[0m \u001b[0;34m=\u001b[0m \u001b[0mself\u001b[0m\u001b[0;34m.\u001b[0m\u001b[0m_validators\u001b[0m\u001b[0;34m.\u001b[0m\u001b[0mget\u001b[0m\u001b[0;34m(\u001b[0m\u001b[0mprop\u001b[0m\u001b[0;34m)\u001b[0m\u001b[0;34m\u001b[0m\u001b[0m\n\u001b[1;32m   2964\u001b[0m         \u001b[0;31m# type: BasePlotlyType\u001b[0m\u001b[0;34m\u001b[0m\u001b[0;34m\u001b[0m\u001b[0m\n\u001b[0;32m-> 2965\u001b[0;31m         \u001b[0mval\u001b[0m \u001b[0;34m=\u001b[0m \u001b[0mvalidator\u001b[0m\u001b[0;34m.\u001b[0m\u001b[0mvalidate_coerce\u001b[0m\u001b[0;34m(\u001b[0m\u001b[0mval\u001b[0m\u001b[0;34m)\u001b[0m\u001b[0;34m\u001b[0m\u001b[0m\n\u001b[0m\u001b[1;32m   2966\u001b[0m \u001b[0;34m\u001b[0m\u001b[0m\n\u001b[1;32m   2967\u001b[0m         \u001b[0;31m# Save deep copies of current and new states\u001b[0m\u001b[0;34m\u001b[0m\u001b[0;34m\u001b[0m\u001b[0m\n",
      "\u001b[0;32m~/miniconda3/lib/python3.6/site-packages/_plotly_utils/basevalidators.py\u001b[0m in \u001b[0;36mvalidate_coerce\u001b[0;34m(self, v)\u001b[0m\n\u001b[1;32m   1790\u001b[0m \u001b[0;34m\u001b[0m\u001b[0m\n\u001b[1;32m   1791\u001b[0m         \u001b[0;32melif\u001b[0m \u001b[0misinstance\u001b[0m\u001b[0;34m(\u001b[0m\u001b[0mv\u001b[0m\u001b[0;34m,\u001b[0m \u001b[0mdict\u001b[0m\u001b[0;34m)\u001b[0m\u001b[0;34m:\u001b[0m\u001b[0;34m\u001b[0m\u001b[0m\n\u001b[0;32m-> 1792\u001b[0;31m             \u001b[0mv\u001b[0m \u001b[0;34m=\u001b[0m \u001b[0mself\u001b[0m\u001b[0;34m.\u001b[0m\u001b[0mdata_class\u001b[0m\u001b[0;34m(\u001b[0m\u001b[0;34m**\u001b[0m\u001b[0mv\u001b[0m\u001b[0;34m)\u001b[0m\u001b[0;34m\u001b[0m\u001b[0m\n\u001b[0m\u001b[1;32m   1793\u001b[0m \u001b[0;34m\u001b[0m\u001b[0m\n\u001b[1;32m   1794\u001b[0m         \u001b[0;32melif\u001b[0m \u001b[0misinstance\u001b[0m\u001b[0;34m(\u001b[0m\u001b[0mv\u001b[0m\u001b[0;34m,\u001b[0m \u001b[0mself\u001b[0m\u001b[0;34m.\u001b[0m\u001b[0mdata_class\u001b[0m\u001b[0;34m)\u001b[0m\u001b[0;34m:\u001b[0m\u001b[0;34m\u001b[0m\u001b[0m\n",
      "\u001b[0;32m~/miniconda3/lib/python3.6/site-packages/plotly/graph_objs/layout/_xaxis.py\u001b[0m in \u001b[0;36m__init__\u001b[0;34m(self, arg, anchor, automargin, autorange, calendar, categoryarray, categoryarraysrc, categoryorder, color, constrain, constraintoward, domain, dtick, exponentformat, fixedrange, gridcolor, gridwidth, hoverformat, layer, linecolor, linewidth, mirror, nticks, overlaying, position, range, rangemode, rangeselector, rangeslider, scaleanchor, scaleratio, separatethousands, showexponent, showgrid, showline, showspikes, showticklabels, showtickprefix, showticksuffix, side, spikecolor, spikedash, spikemode, spikesnap, spikethickness, tick0, tickangle, tickcolor, tickfont, tickformat, tickformatstops, ticklen, tickmode, tickprefix, ticks, ticksuffix, ticktext, ticktextsrc, tickvals, tickvalssrc, tickwidth, title, titlefont, type, visible, zeroline, zerolinecolor, zerolinewidth, **kwargs)\u001b[0m\n\u001b[1;32m   2820\u001b[0m         \u001b[0mself\u001b[0m\u001b[0;34m.\u001b[0m\u001b[0mconstraintoward\u001b[0m \u001b[0;34m=\u001b[0m \u001b[0mconstraintoward\u001b[0m \u001b[0;32mif\u001b[0m \u001b[0mconstraintoward\u001b[0m \u001b[0;32mis\u001b[0m \u001b[0;32mnot\u001b[0m \u001b[0;32mNone\u001b[0m \u001b[0;32melse\u001b[0m \u001b[0m_v\u001b[0m\u001b[0;34m\u001b[0m\u001b[0m\n\u001b[1;32m   2821\u001b[0m         \u001b[0m_v\u001b[0m \u001b[0;34m=\u001b[0m \u001b[0marg\u001b[0m\u001b[0;34m.\u001b[0m\u001b[0mpop\u001b[0m\u001b[0;34m(\u001b[0m\u001b[0;34m'domain'\u001b[0m\u001b[0;34m,\u001b[0m \u001b[0;32mNone\u001b[0m\u001b[0;34m)\u001b[0m\u001b[0;34m\u001b[0m\u001b[0m\n\u001b[0;32m-> 2822\u001b[0;31m         \u001b[0mself\u001b[0m\u001b[0;34m.\u001b[0m\u001b[0mdomain\u001b[0m \u001b[0;34m=\u001b[0m \u001b[0mdomain\u001b[0m \u001b[0;32mif\u001b[0m \u001b[0mdomain\u001b[0m \u001b[0;32mis\u001b[0m \u001b[0;32mnot\u001b[0m \u001b[0;32mNone\u001b[0m \u001b[0;32melse\u001b[0m \u001b[0m_v\u001b[0m\u001b[0;34m\u001b[0m\u001b[0m\n\u001b[0m\u001b[1;32m   2823\u001b[0m         \u001b[0m_v\u001b[0m \u001b[0;34m=\u001b[0m \u001b[0marg\u001b[0m\u001b[0;34m.\u001b[0m\u001b[0mpop\u001b[0m\u001b[0;34m(\u001b[0m\u001b[0;34m'dtick'\u001b[0m\u001b[0;34m,\u001b[0m \u001b[0;32mNone\u001b[0m\u001b[0;34m)\u001b[0m\u001b[0;34m\u001b[0m\u001b[0m\n\u001b[1;32m   2824\u001b[0m         \u001b[0mself\u001b[0m\u001b[0;34m.\u001b[0m\u001b[0mdtick\u001b[0m \u001b[0;34m=\u001b[0m \u001b[0mdtick\u001b[0m \u001b[0;32mif\u001b[0m \u001b[0mdtick\u001b[0m \u001b[0;32mis\u001b[0m \u001b[0;32mnot\u001b[0m \u001b[0;32mNone\u001b[0m \u001b[0;32melse\u001b[0m \u001b[0m_v\u001b[0m\u001b[0;34m\u001b[0m\u001b[0m\n",
      "\u001b[0;32m~/miniconda3/lib/python3.6/site-packages/plotly/basedatatypes.py\u001b[0m in \u001b[0;36m__setattr__\u001b[0;34m(self, prop, value)\u001b[0m\n\u001b[1;32m   2702\u001b[0m                 prop in self._validators):\n\u001b[1;32m   2703\u001b[0m             \u001b[0;31m# Let known properties and private properties through\u001b[0m\u001b[0;34m\u001b[0m\u001b[0;34m\u001b[0m\u001b[0m\n\u001b[0;32m-> 2704\u001b[0;31m             \u001b[0msuper\u001b[0m\u001b[0;34m(\u001b[0m\u001b[0mBasePlotlyType\u001b[0m\u001b[0;34m,\u001b[0m \u001b[0mself\u001b[0m\u001b[0;34m)\u001b[0m\u001b[0;34m.\u001b[0m\u001b[0m__setattr__\u001b[0m\u001b[0;34m(\u001b[0m\u001b[0mprop\u001b[0m\u001b[0;34m,\u001b[0m \u001b[0mvalue\u001b[0m\u001b[0;34m)\u001b[0m\u001b[0;34m\u001b[0m\u001b[0m\n\u001b[0m\u001b[1;32m   2705\u001b[0m         \u001b[0;32melse\u001b[0m\u001b[0;34m:\u001b[0m\u001b[0;34m\u001b[0m\u001b[0m\n\u001b[1;32m   2706\u001b[0m             \u001b[0;31m# Raise error on unknown public properties\u001b[0m\u001b[0;34m\u001b[0m\u001b[0;34m\u001b[0m\u001b[0m\n",
      "\u001b[0;32m~/miniconda3/lib/python3.6/site-packages/plotly/graph_objs/layout/_xaxis.py\u001b[0m in \u001b[0;36mdomain\u001b[0;34m(self, val)\u001b[0m\n\u001b[1;32m    310\u001b[0m     \u001b[0;34m@\u001b[0m\u001b[0mdomain\u001b[0m\u001b[0;34m.\u001b[0m\u001b[0msetter\u001b[0m\u001b[0;34m\u001b[0m\u001b[0m\n\u001b[1;32m    311\u001b[0m     \u001b[0;32mdef\u001b[0m \u001b[0mdomain\u001b[0m\u001b[0;34m(\u001b[0m\u001b[0mself\u001b[0m\u001b[0;34m,\u001b[0m \u001b[0mval\u001b[0m\u001b[0;34m)\u001b[0m\u001b[0;34m:\u001b[0m\u001b[0;34m\u001b[0m\u001b[0m\n\u001b[0;32m--> 312\u001b[0;31m         \u001b[0mself\u001b[0m\u001b[0;34m[\u001b[0m\u001b[0;34m'domain'\u001b[0m\u001b[0;34m]\u001b[0m \u001b[0;34m=\u001b[0m \u001b[0mval\u001b[0m\u001b[0;34m\u001b[0m\u001b[0m\n\u001b[0m\u001b[1;32m    313\u001b[0m \u001b[0;34m\u001b[0m\u001b[0m\n\u001b[1;32m    314\u001b[0m     \u001b[0;31m# dtick\u001b[0m\u001b[0;34m\u001b[0m\u001b[0;34m\u001b[0m\u001b[0m\n",
      "\u001b[0;32m~/miniconda3/lib/python3.6/site-packages/plotly/basedatatypes.py\u001b[0m in \u001b[0;36m__setitem__\u001b[0;34m(self, prop, value)\u001b[0m\n\u001b[1;32m   2674\u001b[0m             \u001b[0;31m# ### Handle simple property ###\u001b[0m\u001b[0;34m\u001b[0m\u001b[0;34m\u001b[0m\u001b[0m\n\u001b[1;32m   2675\u001b[0m             \u001b[0;32melse\u001b[0m\u001b[0;34m:\u001b[0m\u001b[0;34m\u001b[0m\u001b[0m\n\u001b[0;32m-> 2676\u001b[0;31m                 \u001b[0mself\u001b[0m\u001b[0;34m.\u001b[0m\u001b[0m_set_prop\u001b[0m\u001b[0;34m(\u001b[0m\u001b[0mprop\u001b[0m\u001b[0;34m,\u001b[0m \u001b[0mvalue\u001b[0m\u001b[0;34m)\u001b[0m\u001b[0;34m\u001b[0m\u001b[0m\n\u001b[0m\u001b[1;32m   2677\u001b[0m \u001b[0;34m\u001b[0m\u001b[0m\n\u001b[1;32m   2678\u001b[0m         \u001b[0;31m# Handle non-scalar case\u001b[0m\u001b[0;34m\u001b[0m\u001b[0;34m\u001b[0m\u001b[0m\n",
      "\u001b[0;32m~/miniconda3/lib/python3.6/site-packages/plotly/basedatatypes.py\u001b[0m in \u001b[0;36m_set_prop\u001b[0;34m(self, prop, val)\u001b[0m\n\u001b[1;32m   2904\u001b[0m         \u001b[0;31m# ------------\u001b[0m\u001b[0;34m\u001b[0m\u001b[0;34m\u001b[0m\u001b[0m\n\u001b[1;32m   2905\u001b[0m         \u001b[0mvalidator\u001b[0m \u001b[0;34m=\u001b[0m \u001b[0mself\u001b[0m\u001b[0;34m.\u001b[0m\u001b[0m_validators\u001b[0m\u001b[0;34m.\u001b[0m\u001b[0mget\u001b[0m\u001b[0;34m(\u001b[0m\u001b[0mprop\u001b[0m\u001b[0;34m)\u001b[0m\u001b[0;34m\u001b[0m\u001b[0m\n\u001b[0;32m-> 2906\u001b[0;31m         \u001b[0mval\u001b[0m \u001b[0;34m=\u001b[0m \u001b[0mvalidator\u001b[0m\u001b[0;34m.\u001b[0m\u001b[0mvalidate_coerce\u001b[0m\u001b[0;34m(\u001b[0m\u001b[0mval\u001b[0m\u001b[0;34m)\u001b[0m\u001b[0;34m\u001b[0m\u001b[0m\n\u001b[0m\u001b[1;32m   2907\u001b[0m \u001b[0;34m\u001b[0m\u001b[0m\n\u001b[1;32m   2908\u001b[0m         \u001b[0;31m# val is None\u001b[0m\u001b[0;34m\u001b[0m\u001b[0;34m\u001b[0m\u001b[0m\n",
      "\u001b[0;32m~/miniconda3/lib/python3.6/site-packages/_plotly_utils/basevalidators.py\u001b[0m in \u001b[0;36mvalidate_coerce\u001b[0;34m(self, v)\u001b[0m\n\u001b[1;32m   1640\u001b[0m             \u001b[0;32mfor\u001b[0m \u001b[0mi\u001b[0m\u001b[0;34m,\u001b[0m \u001b[0;34m(\u001b[0m\u001b[0mel\u001b[0m\u001b[0;34m,\u001b[0m \u001b[0mvalidator\u001b[0m\u001b[0;34m)\u001b[0m \u001b[0;32min\u001b[0m \u001b[0menumerate\u001b[0m\u001b[0;34m(\u001b[0m\u001b[0mzip\u001b[0m\u001b[0;34m(\u001b[0m\u001b[0mv\u001b[0m\u001b[0;34m,\u001b[0m \u001b[0mself\u001b[0m\u001b[0;34m.\u001b[0m\u001b[0mitem_validators\u001b[0m\u001b[0;34m)\u001b[0m\u001b[0;34m)\u001b[0m\u001b[0;34m:\u001b[0m\u001b[0;34m\u001b[0m\u001b[0m\n\u001b[1;32m   1641\u001b[0m                 \u001b[0;31m# Validate coerce elements\u001b[0m\u001b[0;34m\u001b[0m\u001b[0;34m\u001b[0m\u001b[0m\n\u001b[0;32m-> 1642\u001b[0;31m                 \u001b[0mv\u001b[0m\u001b[0;34m[\u001b[0m\u001b[0mi\u001b[0m\u001b[0;34m]\u001b[0m \u001b[0;34m=\u001b[0m \u001b[0mvalidator\u001b[0m\u001b[0;34m.\u001b[0m\u001b[0mvalidate_coerce\u001b[0m\u001b[0;34m(\u001b[0m\u001b[0mel\u001b[0m\u001b[0;34m)\u001b[0m\u001b[0;34m\u001b[0m\u001b[0m\n\u001b[0m\u001b[1;32m   1643\u001b[0m \u001b[0;34m\u001b[0m\u001b[0m\n\u001b[1;32m   1644\u001b[0m         \u001b[0;32mreturn\u001b[0m \u001b[0mv\u001b[0m\u001b[0;34m\u001b[0m\u001b[0m\n",
      "\u001b[0;32m~/miniconda3/lib/python3.6/site-packages/_plotly_utils/basevalidators.py\u001b[0m in \u001b[0;36mvalidate_coerce\u001b[0;34m(self, v)\u001b[0m\n\u001b[1;32m    665\u001b[0m             \u001b[0;32mif\u001b[0m \u001b[0mself\u001b[0m\u001b[0;34m.\u001b[0m\u001b[0mhas_min_max\u001b[0m\u001b[0;34m:\u001b[0m\u001b[0;34m\u001b[0m\u001b[0m\n\u001b[1;32m    666\u001b[0m                 \u001b[0;32mif\u001b[0m \u001b[0;32mnot\u001b[0m \u001b[0;34m(\u001b[0m\u001b[0mself\u001b[0m\u001b[0;34m.\u001b[0m\u001b[0mmin_val\u001b[0m \u001b[0;34m<=\u001b[0m \u001b[0mv\u001b[0m \u001b[0;34m<=\u001b[0m \u001b[0mself\u001b[0m\u001b[0;34m.\u001b[0m\u001b[0mmax_val\u001b[0m\u001b[0;34m)\u001b[0m\u001b[0;34m:\u001b[0m\u001b[0;34m\u001b[0m\u001b[0m\n\u001b[0;32m--> 667\u001b[0;31m                     \u001b[0mself\u001b[0m\u001b[0;34m.\u001b[0m\u001b[0mraise_invalid_val\u001b[0m\u001b[0;34m(\u001b[0m\u001b[0mv\u001b[0m\u001b[0;34m)\u001b[0m\u001b[0;34m\u001b[0m\u001b[0m\n\u001b[0m\u001b[1;32m    668\u001b[0m         \u001b[0;32mreturn\u001b[0m \u001b[0mv\u001b[0m\u001b[0;34m\u001b[0m\u001b[0m\n\u001b[1;32m    669\u001b[0m \u001b[0;34m\u001b[0m\u001b[0m\n",
      "\u001b[0;32m~/miniconda3/lib/python3.6/site-packages/_plotly_utils/basevalidators.py\u001b[0m in \u001b[0;36mraise_invalid_val\u001b[0;34m(self, v)\u001b[0m\n\u001b[1;32m    214\u001b[0m             \u001b[0mtyp\u001b[0m\u001b[0;34m=\u001b[0m\u001b[0mtype_str\u001b[0m\u001b[0;34m(\u001b[0m\u001b[0mv\u001b[0m\u001b[0;34m)\u001b[0m\u001b[0;34m,\u001b[0m\u001b[0;34m\u001b[0m\u001b[0m\n\u001b[1;32m    215\u001b[0m             \u001b[0mv\u001b[0m\u001b[0;34m=\u001b[0m\u001b[0mrepr\u001b[0m\u001b[0;34m(\u001b[0m\u001b[0mv\u001b[0m\u001b[0;34m)\u001b[0m\u001b[0;34m,\u001b[0m\u001b[0;34m\u001b[0m\u001b[0m\n\u001b[0;32m--> 216\u001b[0;31m             valid_clr_desc=self.description()))\n\u001b[0m\u001b[1;32m    217\u001b[0m \u001b[0;34m\u001b[0m\u001b[0m\n\u001b[1;32m    218\u001b[0m     \u001b[0;32mdef\u001b[0m \u001b[0mraise_invalid_elements\u001b[0m\u001b[0;34m(\u001b[0m\u001b[0mself\u001b[0m\u001b[0;34m,\u001b[0m \u001b[0minvalid_els\u001b[0m\u001b[0;34m)\u001b[0m\u001b[0;34m:\u001b[0m\u001b[0;34m\u001b[0m\u001b[0m\n",
      "\u001b[0;31mValueError\u001b[0m: \n    Invalid value of type 'builtins.int' received for the 'domain[0]' property of layout.xaxis\n        Received value: 5\n\n    The 'domain[0]' property is a number and may be specified as:\n      - An int or float in the interval [0, 1]"
     ]
    }
   ],
   "source": [
    "base_scene = {\"domain\": {\n",
    "      \"x\": [0.5, 1],\n",
    "      \"y\": [0, 0.55]\n",
    "    },\n",
    "   \"xaxis\": {\"gridcolor\": 'white'},\n",
    "   \"yaxis\": {\"gridcolor\": 'white'},\n",
    "   \"zaxis\": {\"gridcolor\": 'white'}\n",
    "}\n",
    "layout = {\n",
    "  \"plot_bgcolor\": 'black',\n",
    "  \"paper_bgcolor\": 'black',\n",
    "  \"titlefont\": {\n",
    "      \"size\": 20,\n",
    "      \"family\": \"Raleway\"\n",
    "  },\n",
    "  \"font\": {\n",
    "      \"color\": 'white'\n",
    "  },\n",
    "  \"dragmode\": \"zoom\",\n",
    "  \"margin\": {\n",
    "    \"r\": 10,\n",
    "    \"t\": 25,\n",
    "    \"b\": 40,\n",
    "    \"l\": 60\n",
    "  },\n",
    "  #\"scene\": base_scene,\n",
    "  #\"scene2\": base_scene,\n",
    "  \"scene2\": {\n",
    "        'domain': {'x': [0, 0.5], 'y': [0.25, 1]},\n",
    "  },\n",
    "  \"scene1\": {\n",
    "        'domain': {'x': [0.5, 1], 'y': [0.25, 1]},\n",
    "  },\n",
    "  \"showlegend\": False,\n",
    "  \"title\": \"<br>Volcano Database\",\n",
    "  \"xaxis\": {\n",
    "    #\"anchor\": \"y\",\n",
    "    \"domain\": [0., 0.5]\n",
    "  },\n",
    "  \"yaxis\": {\n",
    "    #\"anchor\": \"x\",\n",
    "    \"domain\": [0., 0.25],\n",
    "    \"showgrid\": False\n",
    "  },\n",
    "  \"xaxis2\": {\n",
    "    #\"anchor\": \"y\",\n",
    "    \"domain\": [5, 1.0]\n",
    "  },\n",
    "  \"yaxis2\": {\n",
    "    #\"anchor\": \"x\",\n",
    "    \"domain\": [0., 0.25],\n",
    "    \"showgrid\": False\n",
    "  }\n",
    "}\n",
    "\n",
    "\n",
    "trace1 = {\n",
    "  \"x\": [0.504321629929, 0.108749185487, 0.843346498112, 0.0111353725718, 0.335921281582, 0.594602715988, 0.866439020998, 0.628968966003, 0.556378302472, 0.914712257824, 0.653386780919, 0.541622614475, 0.64789079743, 0.531585881947, 0.998208194282, 0.455875164396, 0.668127072137, 0.237428599737, 0.65215328959, 0.00954765629272, 0.661462091419, 0.786428684082, 0.659093527022, 0.805950459317, 0.618796594889, 0.198637486564, 0.351653614261, 0.161884204205, 0.1560385302, 0.216688617359, 0.0317928636826, 0.2981170795, 0.671705992235, 0.0629112090667, 0.0679639459435, 0.111357160449, 0.22068031936, 0.161883382211, 0.404698422296, 0.950917016675], \n",
    "  \"y\": [0.35284352562, 0.132988065203, 0.113392550173, 0.692789135206, 0.846817521504, 0.824477248396, 0.760642211967, 0.316421324724, 0.217495727408, 0.576283049644, 0.871958412031, 0.114035033163, 0.0670362498384, 0.446821834234, 0.35692177151, 0.473324012506, 0.968473055367, 0.989260426174, 0.0860609447363, 0.687668241575, 0.851316579746, 0.371215153975, 0.00470470757558, 0.820375146956, 0.522700477825, 0.153530716045, 0.203534336656, 0.294736002069, 0.110670626899, 0.00727880622812, 0.259138762381, 0.261909778079, 0.212735663953, 0.990707146526, 0.140305862592, 0.318080393533, 0.793208710272, 0.646566397812, 0.302955390156, 0.845325137234], \n",
    "  \"z\": [0.06804464939, 0.70030245301, 0.0858667907416, 0.263244200668, 0.536606210533, 0.957826028259, 0.658845120185, 0.108450261296, 0.486589731186, 0.138090143667, 0.81401192513, 0.404544781499, 0.387480163499, 0.934159078918, 0.64740455151, 0.601595664142, 0.488397991188, 0.826827582264, 0.96198086578, 0.058363865008, 0.211611744026, 0.0913290178043, 0.429765568051, 0.597413651347, 0.797730158942, 0.531644375441, 0.325042246711, 0.371514109423, 0.902535817493, 0.708851766867, 0.730518065734, 0.422841526207, 0.497867592506, 0.124474576222, 0.362635974889, 0.133753891985, 0.863796093885, 0.0133155255053, 0.532447827632, 0.205591190343], \n",
    "  #\"mode\": \"markers\", \n",
    "  \"scene\": \"scene1\", \n",
    "  \"type\": \"scatter3d\"\n",
    "}\n",
    "trace2 = {\n",
    "  \"x\": [0.362706843613, 0.944086804685, 0.0752598812319, 0.254300548643, 0.285366159731, 0.407251053189, 0.325094553314, 0.123324801899, 0.0420894521506, 0.191667415941, 0.680639377483, 0.899074135842, 0.308223246809, 0.194229391564, 0.877768725276, 0.307577908704, 0.765830324411, 0.662966694898, 0.0486931312927, 0.150390249663, 0.141298939252, 0.832733504493, 0.417924632904, 0.344005701557, 0.477268744337, 0.968332699757, 0.938270451013, 0.744313363848, 0.82970588144, 0.894798839492, 0.824723265166, 0.108728505272, 0.236354729831, 0.194841001374, 0.103957776448, 0.0987165258623, 0.245149041606, 0.363877004436, 0.266245733443, 0.382768297873], \n",
    "  \"y\": [0.829127994986, 0.861864441001, 0.266128587234, 0.334310402348, 0.974713625231, 0.0771468846707, 0.597381428956, 0.466024873034, 0.831409290221, 0.618561993732, 0.438271292399, 0.425736145112, 0.229666204178, 0.22500726045, 0.558607864191, 0.0135294581604, 0.239585277808, 0.540308342016, 0.511968023609, 0.833217939189, 0.67940445765, 0.193124525815, 0.083624328431, 0.190079021716, 0.388021278766, 0.4161910419, 0.792212025877, 0.388661163495, 0.772464029994, 0.610285895451, 0.381756000952, 0.926069237397, 0.446750864642, 0.706844021452, 0.945884228729, 0.811654040442, 0.92051619051, 0.344633405113, 0.467212714995, 0.819540271111], \n",
    "  \"z\": [0.154342397308, 0.929507546194, 0.473027230586, 0.654953642921, 0.616222755435, 0.619594125704, 0.545242896739, 0.28386287547, 0.129219203983, 0.0746286235368, 0.43925856064, 0.88231318604, 0.692206514788, 0.443275094246, 0.298248916761, 0.15830219504, 0.273919345623, 0.583664747967, 0.0500002161279, 0.751324289943, 0.426211398965, 0.714078702666, 0.375956975942, 0.27681968518, 0.185511972511, 0.182686184211, 0.658079503524, 0.0490784481717, 0.185565893846, 0.0204768371796, 0.943817184649, 0.573887336829, 0.0655204086949, 0.564802451114, 0.697866542139, 0.0802370134813, 0.381143973592, 0.0731454695831, 0.837396259688, 0.709894786872], \n",
    "  \"mode\": \"markers\", \n",
    "  \"scene\": \"scene2\", \n",
    "  \"type\": \"scatter3d\"\n",
    "}\n",
    "\n",
    "trace3 = {\n",
    "  \"x\": [0.362706843613, 0.944086804685, 0.0752598812319, 0.254300548643, 0.285366159731, 0.407251053189, 0.325094553314, 0.123324801899, 0.0420894521506, 0.191667415941, 0.680639377483, 0.899074135842, 0.308223246809, 0.194229391564, 0.877768725276, 0.307577908704, 0.765830324411, 0.662966694898, 0.0486931312927, 0.150390249663, 0.141298939252, 0.832733504493, 0.417924632904, 0.344005701557, 0.477268744337, 0.968332699757, 0.938270451013, 0.744313363848, 0.82970588144, 0.894798839492, 0.824723265166, 0.108728505272, 0.236354729831, 0.194841001374, 0.103957776448, 0.0987165258623, 0.245149041606, 0.363877004436, 0.266245733443, 0.382768297873], \n",
    "  \"y\": [0.829127994986, 0.861864441001, 0.266128587234, 0.334310402348, 0.974713625231, 0.0771468846707, 0.597381428956, 0.466024873034, 0.831409290221, 0.618561993732, 0.438271292399, 0.425736145112, 0.229666204178, 0.22500726045, 0.558607864191, 0.0135294581604, 0.239585277808, 0.540308342016, 0.511968023609, 0.833217939189, 0.67940445765, 0.193124525815, 0.083624328431, 0.190079021716, 0.388021278766, 0.4161910419, 0.792212025877, 0.388661163495, 0.772464029994, 0.610285895451, 0.381756000952, 0.926069237397, 0.446750864642, 0.706844021452, 0.945884228729, 0.811654040442, 0.92051619051, 0.344633405113, 0.467212714995, 0.819540271111], \n",
    "  \"mode\": \"markers\", \n",
    "  \"type\": \"scatter\",\n",
    "}\n",
    "\n",
    "trace4 = {\n",
    "  \"x\": [0.362706843613, 0.944086804685, 0.0752598812319, 0.254300548643, 0.285366159731, 0.407251053189, 0.325094553314, 0.123324801899, 0.0420894521506, 0.191667415941, 0.680639377483, 0.899074135842, 0.308223246809, 0.194229391564, 0.877768725276, 0.307577908704, 0.765830324411, 0.662966694898, 0.0486931312927, 0.150390249663, 0.141298939252, 0.832733504493, 0.417924632904, 0.344005701557, 0.477268744337, 0.968332699757, 0.938270451013, 0.744313363848, 0.82970588144, 0.894798839492, 0.824723265166, 0.108728505272, 0.236354729831, 0.194841001374, 0.103957776448, 0.0987165258623, 0.245149041606, 0.363877004436, 0.266245733443, 0.382768297873], \n",
    "  \"y\": [0.829127994986, 0.861864441001, 0.266128587234, 0.334310402348, 0.974713625231, 0.0771468846707, 0.597381428956, 0.466024873034, 0.831409290221, 0.618561993732, 0.438271292399, 0.425736145112, 0.229666204178, 0.22500726045, 0.558607864191, 0.0135294581604, 0.239585277808, 0.540308342016, 0.511968023609, 0.833217939189, 0.67940445765, 0.193124525815, 0.083624328431, 0.190079021716, 0.388021278766, 0.4161910419, 0.792212025877, 0.388661163495, 0.772464029994, 0.610285895451, 0.381756000952, 0.926069237397, 0.446750864642, 0.706844021452, 0.945884228729, 0.811654040442, 0.92051619051, 0.344633405113, 0.467212714995, 0.819540271111], \n",
    "  \"mode\": \"markers\", \n",
    "  \"type\": \"scatter\",\n",
    "}\n",
    "\n",
    "data = [trace1, trace2, trace3]\n",
    "#layout = {\"title\": \"Sub Scenes !\"}\n",
    "annotations = { \"text\": \"Source: NOAA\",\n",
    "               \"showarrow\": False,\n",
    "               \"xref\": \"paper\",\n",
    "               \"yref\": \"paper\",\n",
    "               \"x\": 0,\n",
    "               \"y\": 0}\n",
    "\n",
    "#layout['annotations'] = [annotations]\n",
    "fig = go.FigureWidget(data=data, layout=layout)\n",
    "fig"
   ]
  },
  {
   "cell_type": "code",
   "execution_count": null,
   "metadata": {},
   "outputs": [],
   "source": []
  },
  {
   "cell_type": "code",
   "execution_count": 1244,
   "metadata": {},
   "outputs": [
    {
     "ename": "UnicodeDecodeError",
     "evalue": "'utf-8' codec can't decode byte 0xe9 in position 6: invalid continuation byte",
     "output_type": "error",
     "traceback": [
      "\u001b[0;31m---------------------------------------------------------------------------\u001b[0m",
      "\u001b[0;31mUnicodeDecodeError\u001b[0m                        Traceback (most recent call last)",
      "\u001b[0;32mpandas/_libs/parsers.pyx\u001b[0m in \u001b[0;36mpandas._libs.parsers.TextReader._convert_tokens\u001b[0;34m()\u001b[0m\n",
      "\u001b[0;32mpandas/_libs/parsers.pyx\u001b[0m in \u001b[0;36mpandas._libs.parsers.TextReader._convert_with_dtype\u001b[0;34m()\u001b[0m\n",
      "\u001b[0;32mpandas/_libs/parsers.pyx\u001b[0m in \u001b[0;36mpandas._libs.parsers.TextReader._string_convert\u001b[0;34m()\u001b[0m\n",
      "\u001b[0;32mpandas/_libs/parsers.pyx\u001b[0m in \u001b[0;36mpandas._libs.parsers._string_box_utf8\u001b[0;34m()\u001b[0m\n",
      "\u001b[0;31mUnicodeDecodeError\u001b[0m: 'utf-8' codec can't decode byte 0xe9 in position 6: invalid continuation byte",
      "\nDuring handling of the above exception, another exception occurred:\n",
      "\u001b[0;31mUnicodeDecodeError\u001b[0m                        Traceback (most recent call last)",
      "\u001b[0;32m<ipython-input-1244-13cc8e0b9443>\u001b[0m in \u001b[0;36m<module>\u001b[0;34m()\u001b[0m\n\u001b[1;32m      1\u001b[0m \u001b[0;31m# read in volcano database data\u001b[0m\u001b[0;34m\u001b[0m\u001b[0;34m\u001b[0m\u001b[0m\n\u001b[0;32m----> 2\u001b[0;31m \u001b[0mdf\u001b[0m \u001b[0;34m=\u001b[0m \u001b[0mpd\u001b[0m\u001b[0;34m.\u001b[0m\u001b[0mread_csv\u001b[0m\u001b[0;34m(\u001b[0m\u001b[0;34mr'https://raw.githubusercontent.com/plotly/datasets/master/volcano_db.csv'\u001b[0m\u001b[0;34m)\u001b[0m\u001b[0;34m\u001b[0m\u001b[0m\n\u001b[0m\u001b[1;32m      3\u001b[0m \u001b[0;34m\u001b[0m\u001b[0m\n\u001b[1;32m      4\u001b[0m \u001b[0;31m# frequency of Country\u001b[0m\u001b[0;34m\u001b[0m\u001b[0;34m\u001b[0m\u001b[0m\n\u001b[1;32m      5\u001b[0m \u001b[0mfreq\u001b[0m \u001b[0;34m=\u001b[0m \u001b[0mdf\u001b[0m\u001b[0;34m\u001b[0m\u001b[0m\n",
      "\u001b[0;32m~/miniconda3/lib/python3.6/site-packages/pandas/io/parsers.py\u001b[0m in \u001b[0;36mparser_f\u001b[0;34m(filepath_or_buffer, sep, delimiter, header, names, index_col, usecols, squeeze, prefix, mangle_dupe_cols, dtype, engine, converters, true_values, false_values, skipinitialspace, skiprows, nrows, na_values, keep_default_na, na_filter, verbose, skip_blank_lines, parse_dates, infer_datetime_format, keep_date_col, date_parser, dayfirst, iterator, chunksize, compression, thousands, decimal, lineterminator, quotechar, quoting, escapechar, comment, encoding, dialect, tupleize_cols, error_bad_lines, warn_bad_lines, skipfooter, doublequote, delim_whitespace, low_memory, memory_map, float_precision)\u001b[0m\n\u001b[1;32m    676\u001b[0m                     skip_blank_lines=skip_blank_lines)\n\u001b[1;32m    677\u001b[0m \u001b[0;34m\u001b[0m\u001b[0m\n\u001b[0;32m--> 678\u001b[0;31m         \u001b[0;32mreturn\u001b[0m \u001b[0m_read\u001b[0m\u001b[0;34m(\u001b[0m\u001b[0mfilepath_or_buffer\u001b[0m\u001b[0;34m,\u001b[0m \u001b[0mkwds\u001b[0m\u001b[0;34m)\u001b[0m\u001b[0;34m\u001b[0m\u001b[0m\n\u001b[0m\u001b[1;32m    679\u001b[0m \u001b[0;34m\u001b[0m\u001b[0m\n\u001b[1;32m    680\u001b[0m     \u001b[0mparser_f\u001b[0m\u001b[0;34m.\u001b[0m\u001b[0m__name__\u001b[0m \u001b[0;34m=\u001b[0m \u001b[0mname\u001b[0m\u001b[0;34m\u001b[0m\u001b[0m\n",
      "\u001b[0;32m~/miniconda3/lib/python3.6/site-packages/pandas/io/parsers.py\u001b[0m in \u001b[0;36m_read\u001b[0;34m(filepath_or_buffer, kwds)\u001b[0m\n\u001b[1;32m    444\u001b[0m \u001b[0;34m\u001b[0m\u001b[0m\n\u001b[1;32m    445\u001b[0m     \u001b[0;32mtry\u001b[0m\u001b[0;34m:\u001b[0m\u001b[0;34m\u001b[0m\u001b[0m\n\u001b[0;32m--> 446\u001b[0;31m         \u001b[0mdata\u001b[0m \u001b[0;34m=\u001b[0m \u001b[0mparser\u001b[0m\u001b[0;34m.\u001b[0m\u001b[0mread\u001b[0m\u001b[0;34m(\u001b[0m\u001b[0mnrows\u001b[0m\u001b[0;34m)\u001b[0m\u001b[0;34m\u001b[0m\u001b[0m\n\u001b[0m\u001b[1;32m    447\u001b[0m     \u001b[0;32mfinally\u001b[0m\u001b[0;34m:\u001b[0m\u001b[0;34m\u001b[0m\u001b[0m\n\u001b[1;32m    448\u001b[0m         \u001b[0mparser\u001b[0m\u001b[0;34m.\u001b[0m\u001b[0mclose\u001b[0m\u001b[0;34m(\u001b[0m\u001b[0;34m)\u001b[0m\u001b[0;34m\u001b[0m\u001b[0m\n",
      "\u001b[0;32m~/miniconda3/lib/python3.6/site-packages/pandas/io/parsers.py\u001b[0m in \u001b[0;36mread\u001b[0;34m(self, nrows)\u001b[0m\n\u001b[1;32m   1034\u001b[0m                 \u001b[0;32mraise\u001b[0m \u001b[0mValueError\u001b[0m\u001b[0;34m(\u001b[0m\u001b[0;34m'skipfooter not supported for iteration'\u001b[0m\u001b[0;34m)\u001b[0m\u001b[0;34m\u001b[0m\u001b[0m\n\u001b[1;32m   1035\u001b[0m \u001b[0;34m\u001b[0m\u001b[0m\n\u001b[0;32m-> 1036\u001b[0;31m         \u001b[0mret\u001b[0m \u001b[0;34m=\u001b[0m \u001b[0mself\u001b[0m\u001b[0;34m.\u001b[0m\u001b[0m_engine\u001b[0m\u001b[0;34m.\u001b[0m\u001b[0mread\u001b[0m\u001b[0;34m(\u001b[0m\u001b[0mnrows\u001b[0m\u001b[0;34m)\u001b[0m\u001b[0;34m\u001b[0m\u001b[0m\n\u001b[0m\u001b[1;32m   1037\u001b[0m \u001b[0;34m\u001b[0m\u001b[0m\n\u001b[1;32m   1038\u001b[0m         \u001b[0;31m# May alter columns / col_dict\u001b[0m\u001b[0;34m\u001b[0m\u001b[0;34m\u001b[0m\u001b[0m\n",
      "\u001b[0;32m~/miniconda3/lib/python3.6/site-packages/pandas/io/parsers.py\u001b[0m in \u001b[0;36mread\u001b[0;34m(self, nrows)\u001b[0m\n\u001b[1;32m   1846\u001b[0m     \u001b[0;32mdef\u001b[0m \u001b[0mread\u001b[0m\u001b[0;34m(\u001b[0m\u001b[0mself\u001b[0m\u001b[0;34m,\u001b[0m \u001b[0mnrows\u001b[0m\u001b[0;34m=\u001b[0m\u001b[0;32mNone\u001b[0m\u001b[0;34m)\u001b[0m\u001b[0;34m:\u001b[0m\u001b[0;34m\u001b[0m\u001b[0m\n\u001b[1;32m   1847\u001b[0m         \u001b[0;32mtry\u001b[0m\u001b[0;34m:\u001b[0m\u001b[0;34m\u001b[0m\u001b[0m\n\u001b[0;32m-> 1848\u001b[0;31m             \u001b[0mdata\u001b[0m \u001b[0;34m=\u001b[0m \u001b[0mself\u001b[0m\u001b[0;34m.\u001b[0m\u001b[0m_reader\u001b[0m\u001b[0;34m.\u001b[0m\u001b[0mread\u001b[0m\u001b[0;34m(\u001b[0m\u001b[0mnrows\u001b[0m\u001b[0;34m)\u001b[0m\u001b[0;34m\u001b[0m\u001b[0m\n\u001b[0m\u001b[1;32m   1849\u001b[0m         \u001b[0;32mexcept\u001b[0m \u001b[0mStopIteration\u001b[0m\u001b[0;34m:\u001b[0m\u001b[0;34m\u001b[0m\u001b[0m\n\u001b[1;32m   1850\u001b[0m             \u001b[0;32mif\u001b[0m \u001b[0mself\u001b[0m\u001b[0;34m.\u001b[0m\u001b[0m_first_chunk\u001b[0m\u001b[0;34m:\u001b[0m\u001b[0;34m\u001b[0m\u001b[0m\n",
      "\u001b[0;32mpandas/_libs/parsers.pyx\u001b[0m in \u001b[0;36mpandas._libs.parsers.TextReader.read\u001b[0;34m()\u001b[0m\n",
      "\u001b[0;32mpandas/_libs/parsers.pyx\u001b[0m in \u001b[0;36mpandas._libs.parsers.TextReader._read_low_memory\u001b[0;34m()\u001b[0m\n",
      "\u001b[0;32mpandas/_libs/parsers.pyx\u001b[0m in \u001b[0;36mpandas._libs.parsers.TextReader._read_rows\u001b[0;34m()\u001b[0m\n",
      "\u001b[0;32mpandas/_libs/parsers.pyx\u001b[0m in \u001b[0;36mpandas._libs.parsers.TextReader._convert_column_data\u001b[0;34m()\u001b[0m\n",
      "\u001b[0;32mpandas/_libs/parsers.pyx\u001b[0m in \u001b[0;36mpandas._libs.parsers.TextReader._convert_tokens\u001b[0;34m()\u001b[0m\n",
      "\u001b[0;32mpandas/_libs/parsers.pyx\u001b[0m in \u001b[0;36mpandas._libs.parsers.TextReader._convert_with_dtype\u001b[0;34m()\u001b[0m\n",
      "\u001b[0;32mpandas/_libs/parsers.pyx\u001b[0m in \u001b[0;36mpandas._libs.parsers.TextReader._string_convert\u001b[0;34m()\u001b[0m\n",
      "\u001b[0;32mpandas/_libs/parsers.pyx\u001b[0m in \u001b[0;36mpandas._libs.parsers._string_box_utf8\u001b[0;34m()\u001b[0m\n",
      "\u001b[0;31mUnicodeDecodeError\u001b[0m: 'utf-8' codec can't decode byte 0xe9 in position 6: invalid continuation byte"
     ]
    }
   ],
   "source": [
    "# read in volcano database data\n",
    "df = pd.read_csv('https://raw.githubusercontent.com/plotly/datasets/master/volcano_db.csv')\n",
    "\n",
    "# frequency of Country\n",
    "freq = df\n",
    "freq = freq.Country.value_counts().reset_index().rename(columns={'index': 'x'})\n",
    "\n",
    "# plot(1) top 10 countries by total volcanoes\n",
    "locations = go.Bar(x=freq['x'][0:10],y=freq['Country'][0:10], marker=dict(color='#CF1020'))\n",
    "\n",
    "# read in 3d volcano surface data\n",
    "df_v = pd.read_csv(r'https://raw.githubusercontent.com/plotly/datasets/master/volcano.csv')\n",
    "\n",
    "# plot(2) 3d surface of volcano\n",
    "threed = go.Surface(z=df_v.values.tolist(), colorscale='Reds', showscale=False)\n",
    "\n",
    "# plot(3)  scattergeo map of volcano locations\n",
    "trace3 = {\n",
    "  \"geo\": \"geo3\",\n",
    "  \"lon\": df['Longitude'],\n",
    "  \"lat\": df['Latitude'],\n",
    "  \"hoverinfo\": 'text',\n",
    "  \"marker\": {\n",
    "    \"size\": 4,\n",
    "    \"opacity\": 0.8,\n",
    "    \"color\": '#CF1020',\n",
    "    \"colorscale\": 'Viridis'\n",
    "  },\n",
    "  \"mode\": \"markers\",\n",
    "  \"type\": \"scattergeo\"\n",
    "}\n",
    "\n",
    "data = [locations, threed, trace3]\n",
    "\n",
    "# control the subplot below using domain in 'geo', 'scene', and 'axis'\n",
    "layout = {\n",
    "  \"plot_bgcolor\": 'black',\n",
    "  \"paper_bgcolor\": 'black',\n",
    "  \"titlefont\": {\n",
    "      \"size\": 20,\n",
    "      \"family\": \"Raleway\"\n",
    "  },\n",
    "  \"font\": {\n",
    "      \"color\": 'white'\n",
    "  },\n",
    "  \"dragmode\": \"zoom\",\n",
    "  \"geo3\": {\n",
    "    \"domain\": {\n",
    "      \"x\": [0, 0.55],\n",
    "      \"y\": [0, 0.9]\n",
    "    },\n",
    "    \"lakecolor\": \"rgba(127,205,255,1)\",\n",
    "    \"oceancolor\": \"rgb(6,66,115)\",\n",
    "    \"landcolor\": 'white',\n",
    "    \"projection\": {\"type\": \"orthographic\"},\n",
    "    \"scope\": \"world\",\n",
    "    \"showlakes\": True,\n",
    "    \"showocean\": True,\n",
    "    \"showland\": True,\n",
    "    \"bgcolor\": 'black'\n",
    "  },\n",
    "  \"margin\": {\n",
    "    \"r\": 10,\n",
    "    \"t\": 25,\n",
    "    \"b\": 40,\n",
    "    \"l\": 60\n",
    "  },\n",
    "  \"scene\": {\"domain\": {\n",
    "      \"x\": [0.5, 1],\n",
    "      \"y\": [0, 0.55]\n",
    "    },\n",
    "           \"xaxis\": {\"gridcolor\": 'white'},\n",
    "           \"yaxis\": {\"gridcolor\": 'white'},\n",
    "           \"zaxis\": {\"gridcolor\": 'white'}\n",
    "           },\n",
    "  \"showlegend\": False,\n",
    "  \"title\": \"<br>Volcano Database\",\n",
    "  \"xaxis\": {\n",
    "    \"anchor\": \"y\",\n",
    "    \"domain\": [0.6, 0.95]\n",
    "  },\n",
    "  \"yaxis\": {\n",
    "    \"anchor\": \"x\",\n",
    "    \"domain\": [0.65, 0.95],\n",
    "    \"showgrid\": False\n",
    "  }\n",
    "}\n",
    "\n",
    "annotations = { \"text\": \"Source: NOAA\",\n",
    "               \"showarrow\": False,\n",
    "               \"xref\": \"paper\",\n",
    "               \"yref\": \"paper\",\n",
    "               \"x\": 0,\n",
    "               \"y\": 0}\n",
    "\n",
    "layout['annotations'] = [annotations]\n",
    "\n",
    "fig = go.FigureWidget(data=data, layout=layout)"
   ]
  },
  {
   "cell_type": "code",
   "execution_count": null,
   "metadata": {},
   "outputs": [],
   "source": [
    "layout = {\n",
    "    \"scene2\": {\n",
    "        'domain': {'x': [0, 0.5], 'y': [0.25, 1]},\n",
    "    },\n",
    "    \"scene1\": {\n",
    "        'domain': {'x': [0.5, 1], 'y': [0.25, 1]},\n",
    "    },\n",
    "    \"xaxis\": {\n",
    "        #\"anchor\": \"y\",\n",
    "        \"domain\": [0.25, 0.75]\n",
    "    },\n",
    "    \"yaxis\": {\n",
    "        #\"anchor\": \"x\",\n",
    "        \"domain\": [0., 0.25],\n",
    "        \"showgrid\": False\n",
    "    }\n",
    "}\n",
    "class MixedFigure:\n",
    "    def __init__(self, base_layout):\n",
    "        self._layout = base_layout\n",
    "        self._data = []\n",
    "    \n",
    "    def add_axis(self, domain):\n",
    "        pass\n",
    "    \n",
    "    def add_scene(self, domain):\n",
    "        pass\n",
    "    \n",
    "    def add_geo(self, domain):\n",
    "        pass\n"
   ]
  }
 ],
 "metadata": {
  "kernelspec": {
   "display_name": "Python 3",
   "language": "python",
   "name": "python3"
  },
  "language_info": {
   "codemirror_mode": {
    "name": "ipython",
    "version": 3
   },
   "file_extension": ".py",
   "mimetype": "text/x-python",
   "name": "python",
   "nbconvert_exporter": "python",
   "pygments_lexer": "ipython3",
   "version": "3.6.5"
  }
 },
 "nbformat": 4,
 "nbformat_minor": 2
}
